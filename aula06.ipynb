{
  "nbformat": 4,
  "nbformat_minor": 0,
  "metadata": {
    "colab": {
      "provenance": [],
      "toc_visible": true,
      "authorship_tag": "ABX9TyP1ts2zmgm904pAudLr86eJ",
      "include_colab_link": true
    },
    "kernelspec": {
      "name": "python3",
      "display_name": "Python 3"
    },
    "language_info": {
      "name": "python"
    }
  },
  "cells": [
    {
      "cell_type": "markdown",
      "metadata": {
        "id": "view-in-github",
        "colab_type": "text"
      },
      "source": [
        "<a href=\"https://colab.research.google.com/github/JorgeFreitagAcademic/aulasPython/blob/main/aula06.ipynb\" target=\"_parent\"><img src=\"https://colab.research.google.com/assets/colab-badge.svg\" alt=\"Open In Colab\"/></a>"
      ]
    },
    {
      "cell_type": "markdown",
      "source": [
        "#Mais operações matemáticas"
      ],
      "metadata": {
        "id": "KrJTAY4D-H4i"
      }
    },
    {
      "cell_type": "markdown",
      "source": [
        "##Uso de Divisões"
      ],
      "metadata": {
        "id": "f4bfeJN6-MO0"
      }
    },
    {
      "cell_type": "markdown",
      "source": [
        "###/ - Divisão simples"
      ],
      "metadata": {
        "id": "M6SaxvS2-PU7"
      }
    },
    {
      "cell_type": "code",
      "execution_count": 1,
      "metadata": {
        "colab": {
          "base_uri": "https://localhost:8080/"
        },
        "id": "P8ZLkUeK-HEl",
        "outputId": "90144a12-64b9-440f-f227-9fab543a50d6"
      },
      "outputs": [
        {
          "output_type": "execute_result",
          "data": {
            "text/plain": [
              "2.5"
            ]
          },
          "metadata": {},
          "execution_count": 1
        }
      ],
      "source": [
        "5/2"
      ]
    },
    {
      "cell_type": "markdown",
      "source": [
        "###% - Resto de divisao"
      ],
      "metadata": {
        "id": "iFvyrRSV-e72"
      }
    },
    {
      "cell_type": "code",
      "source": [
        "5%2"
      ],
      "metadata": {
        "colab": {
          "base_uri": "https://localhost:8080/"
        },
        "id": "7mjEYLu0-evm",
        "outputId": "241e397c-faa9-49ae-a387-ab611788a02c"
      },
      "execution_count": 2,
      "outputs": [
        {
          "output_type": "execute_result",
          "data": {
            "text/plain": [
              "1"
            ]
          },
          "metadata": {},
          "execution_count": 2
        }
      ]
    },
    {
      "cell_type": "markdown",
      "source": [
        "###// - Quociente da divisão"
      ],
      "metadata": {
        "id": "nBB8bohJ-l11"
      }
    },
    {
      "cell_type": "code",
      "source": [
        "7//2"
      ],
      "metadata": {
        "colab": {
          "base_uri": "https://localhost:8080/"
        },
        "id": "ql_VTLvK-oit",
        "outputId": "057764f8-69e2-4fc2-ad23-ac94357a7e11"
      },
      "execution_count": 5,
      "outputs": [
        {
          "output_type": "execute_result",
          "data": {
            "text/plain": [
              "3"
            ]
          },
          "metadata": {},
          "execution_count": 5
        }
      ]
    },
    {
      "cell_type": "markdown",
      "source": [
        "#Tratamento de erro"
      ],
      "metadata": {
        "id": "5t2MNE-yGACV"
      }
    },
    {
      "cell_type": "markdown",
      "source": [
        "##Uso de while "
      ],
      "metadata": {
        "id": "f0it4iJKGDYa"
      }
    },
    {
      "cell_type": "code",
      "source": [
        "while True:\n",
        "  try:\n",
        "    x = float(input('Digite um valor em polegadas para receber uma conversão para centímetros: '))\n",
        "    print(f'O valor é de {x * 2.54}cm')\n",
        "    break\n",
        "  except ValueError:\n",
        "    print('Erro, Digite um valor de até 2 casas decimais: ')"
      ],
      "metadata": {
        "id": "XPGmb_8DGFMr"
      },
      "execution_count": null,
      "outputs": []
    }
  ]
}