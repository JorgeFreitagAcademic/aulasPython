{
  "nbformat": 4,
  "nbformat_minor": 0,
  "metadata": {
    "colab": {
      "provenance": [],
      "toc_visible": true,
      "authorship_tag": "ABX9TyMPU4hlAtYicCtOykrj8UNQ",
      "include_colab_link": true
    },
    "kernelspec": {
      "name": "python3",
      "display_name": "Python 3"
    },
    "language_info": {
      "name": "python"
    }
  },
  "cells": [
    {
      "cell_type": "markdown",
      "metadata": {
        "id": "view-in-github",
        "colab_type": "text"
      },
      "source": [
        "<a href=\"https://colab.research.google.com/github/JorgeFreitagAcademic/aulasPython/blob/main/aula05.ipynb\" target=\"_parent\"><img src=\"https://colab.research.google.com/assets/colab-badge.svg\" alt=\"Open In Colab\"/></a>"
      ]
    },
    {
      "cell_type": "code",
      "execution_count": null,
      "metadata": {
        "id": "ffYD_Q8w9Ezn"
      },
      "outputs": [],
      "source": []
    },
    {
      "cell_type": "markdown",
      "source": [
        "#Aprofundando"
      ],
      "metadata": {
        "id": "3A6Chxzg-LfC"
      }
    },
    {
      "cell_type": "markdown",
      "source": [
        "##Funcionalidade extra do Print"
      ],
      "metadata": {
        "id": "anwEHx3z9HLM"
      }
    },
    {
      "cell_type": "code",
      "source": [
        "a = 10\n",
        "m = 9.0\n",
        "print('a quantidade de alunos é' , a , 'e a média da turma é de' , m) \n",
        "print(f'a quantidade de alunos é {a} e a média da turma é de {m}')"
      ],
      "metadata": {
        "colab": {
          "base_uri": "https://localhost:8080/"
        },
        "id": "O08i5Piq9QJ0",
        "outputId": "2928c9e7-f704-488c-dc8d-b964ff516803"
      },
      "execution_count": null,
      "outputs": [
        {
          "output_type": "stream",
          "name": "stdout",
          "text": [
            "a quantidade de alunos é 10 e a média da turma é de 9.0\n",
            "a quantidade de alunos é 10 e a média da turma é de 9.0\n"
          ]
        }
      ]
    },
    {
      "cell_type": "markdown",
      "source": [
        "##Operações"
      ],
      "metadata": {
        "id": "6fHE5moTA2nh"
      }
    },
    {
      "cell_type": "markdown",
      "source": [
        "Código base com operações lógicas"
      ],
      "metadata": {
        "id": "-tCBYBmECT-v"
      }
    },
    {
      "cell_type": "code",
      "source": [
        "x = 34 - 23\n",
        "y = 'Hello'\n",
        "z = 3.45\n",
        "if z == 3.45 or y == 'Hello': #OR e AND funcionam igual ao sistema Lógico\n",
        "  y = y + ' World'\n",
        "  x = x + 1\n",
        "print(x)\n",
        "print(y)"
      ],
      "metadata": {
        "colab": {
          "base_uri": "https://localhost:8080/"
        },
        "id": "S4Lv3FrTA8Dh",
        "outputId": "5c4531d4-2a5d-4316-baaa-3d3b1e5d4ce2"
      },
      "execution_count": null,
      "outputs": [
        {
          "output_type": "stream",
          "name": "stdout",
          "text": [
            "12\n",
            "Hello World\n"
          ]
        }
      ]
    },
    {
      "cell_type": "code",
      "source": [
        "a = 5\n",
        "b = 6\n",
        "c = 10"
      ],
      "metadata": {
        "id": "VLFmzCVsD4Mb"
      },
      "execution_count": null,
      "outputs": []
    },
    {
      "cell_type": "code",
      "source": [
        "a + b #Soma"
      ],
      "metadata": {
        "colab": {
          "base_uri": "https://localhost:8080/"
        },
        "id": "ShUm7obqEin1",
        "outputId": "f929d78e-ee72-4568-85de-1ae5476e28c7"
      },
      "execution_count": null,
      "outputs": [
        {
          "output_type": "execute_result",
          "data": {
            "text/plain": [
              "11"
            ]
          },
          "metadata": {},
          "execution_count": 18
        }
      ]
    },
    {
      "cell_type": "code",
      "source": [
        "b - c #Subtração"
      ],
      "metadata": {
        "colab": {
          "base_uri": "https://localhost:8080/"
        },
        "id": "93a7zeLTEjdD",
        "outputId": "8fb87bd4-3ec7-46aa-eced-615e45fa3368"
      },
      "execution_count": null,
      "outputs": [
        {
          "output_type": "execute_result",
          "data": {
            "text/plain": [
              "-4"
            ]
          },
          "metadata": {},
          "execution_count": 19
        }
      ]
    },
    {
      "cell_type": "code",
      "source": [
        "a * b #Multiplicação"
      ],
      "metadata": {
        "colab": {
          "base_uri": "https://localhost:8080/"
        },
        "id": "FfOpg5BHEkLi",
        "outputId": "0c981b2c-b74e-41f4-aba0-a31ac1472097"
      },
      "execution_count": null,
      "outputs": [
        {
          "output_type": "execute_result",
          "data": {
            "text/plain": [
              "30"
            ]
          },
          "metadata": {},
          "execution_count": 20
        }
      ]
    },
    {
      "cell_type": "code",
      "source": [
        "b / a #Divisão"
      ],
      "metadata": {
        "colab": {
          "base_uri": "https://localhost:8080/"
        },
        "id": "G9nrlj5jExrb",
        "outputId": "c3793b73-355e-408c-a77a-58e67e7aecfb"
      },
      "execution_count": null,
      "outputs": [
        {
          "output_type": "execute_result",
          "data": {
            "text/plain": [
              "1.2"
            ]
          },
          "metadata": {},
          "execution_count": 25
        }
      ]
    },
    {
      "cell_type": "code",
      "source": [
        "b % a #Resto"
      ],
      "metadata": {
        "colab": {
          "base_uri": "https://localhost:8080/"
        },
        "id": "8zP-eyBpE1g7",
        "outputId": "cd07cde9-d7ec-432a-d7c9-8f99d2a69bee"
      },
      "execution_count": null,
      "outputs": [
        {
          "output_type": "execute_result",
          "data": {
            "text/plain": [
              "1"
            ]
          },
          "metadata": {},
          "execution_count": 24
        }
      ]
    },
    {
      "cell_type": "code",
      "source": [],
      "metadata": {
        "id": "6VUHR2eVFuMc"
      },
      "execution_count": null,
      "outputs": []
    }
  ]
}