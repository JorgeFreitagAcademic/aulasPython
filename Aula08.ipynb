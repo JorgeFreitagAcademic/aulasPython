{
  "nbformat": 4,
  "nbformat_minor": 0,
  "metadata": {
    "colab": {
      "provenance": [],
      "authorship_tag": "ABX9TyNk0lnuxjKrjEinDs1pKGBM",
      "include_colab_link": true
    },
    "kernelspec": {
      "name": "python3",
      "display_name": "Python 3"
    },
    "language_info": {
      "name": "python"
    }
  },
  "cells": [
    {
      "cell_type": "markdown",
      "metadata": {
        "id": "view-in-github",
        "colab_type": "text"
      },
      "source": [
        "<a href=\"https://colab.research.google.com/github/JorgeFreitagAcademic/aulasPython/blob/main/Aula08.ipynb\" target=\"_parent\"><img src=\"https://colab.research.google.com/assets/colab-badge.svg\" alt=\"Open In Colab\"/></a>"
      ]
    },
    {
      "cell_type": "markdown",
      "source": [
        "#Listas, Tuplas e Dicionarios"
      ],
      "metadata": {
        "id": "orAK_YF-RMGu"
      }
    },
    {
      "cell_type": "markdown",
      "source": [
        "##Listas"
      ],
      "metadata": {
        "id": "gNo9RheEa9pI"
      }
    },
    {
      "cell_type": "code",
      "execution_count": 6,
      "metadata": {
        "colab": {
          "base_uri": "https://localhost:8080/"
        },
        "id": "52LbUdyaRGfg",
        "outputId": "f29e35eb-0523-49b8-c48c-8d04762f9e79"
      },
      "outputs": [
        {
          "output_type": "stream",
          "name": "stdout",
          "text": [
            "[1, 2, 3, 4]\n",
            "[1, 2, 3, 4, 5]\n"
          ]
        }
      ],
      "source": [
        "lista = [1,2,3,4]\n",
        "print(lista)\n",
        "lista.append(5)\n",
        "print(lista)"
      ]
    },
    {
      "cell_type": "code",
      "source": [
        "lis = [1,2,3]\n",
        "new_lis = lis\n",
        "lis.append(4)\n",
        "new_lis.append(5)\n",
        "print(lis)\n",
        "print(new_lis)"
      ],
      "metadata": {
        "colab": {
          "base_uri": "https://localhost:8080/"
        },
        "id": "I2zAWSmXXKn4",
        "outputId": "fee6a793-4551-49ea-bca1-0c70fceeed78"
      },
      "execution_count": 26,
      "outputs": [
        {
          "output_type": "stream",
          "name": "stdout",
          "text": [
            "[1, 2, 3, 4, 5]\n",
            "[1, 2, 3, 4, 5]\n"
          ]
        }
      ]
    },
    {
      "cell_type": "code",
      "source": [
        "frutas = ['abacate','banana','caja']"
      ],
      "metadata": {
        "id": "VNt68eLDZ19p"
      },
      "execution_count": 59,
      "outputs": []
    },
    {
      "cell_type": "code",
      "source": [
        "for num in frutas:\n",
        "  if num == frutas[1]:\n",
        "    print(num)"
      ],
      "metadata": {
        "colab": {
          "base_uri": "https://localhost:8080/"
        },
        "id": "jVDeXXshYlAt",
        "outputId": "cbd1b6c0-9e33-4f07-8eb1-00f18b571cf3"
      },
      "execution_count": 60,
      "outputs": [
        {
          "output_type": "stream",
          "name": "stdout",
          "text": [
            "banana\n"
          ]
        }
      ]
    },
    {
      "cell_type": "markdown",
      "source": [
        "##Tuplas"
      ],
      "metadata": {
        "id": "6cCZXLVoa_gf"
      }
    },
    {
      "cell_type": "code",
      "source": [
        "tupla = (1,2,3,4)   # tupla.append(5) não existe atributo append\n",
        "tupla"
      ],
      "metadata": {
        "colab": {
          "base_uri": "https://localhost:8080/"
        },
        "id": "MK8BEeYnRoxv",
        "outputId": "2093a77c-fa73-4fc3-e6bc-ce617cfc99d7"
      },
      "execution_count": 9,
      "outputs": [
        {
          "output_type": "execute_result",
          "data": {
            "text/plain": [
              "(1, 2, 3, 4)"
            ]
          },
          "metadata": {},
          "execution_count": 9
        }
      ]
    },
    {
      "cell_type": "code",
      "source": [
        "tupla = ('214124')\n",
        "tuple(tupla)"
      ],
      "metadata": {
        "colab": {
          "base_uri": "https://localhost:8080/"
        },
        "id": "DggFDyNYSP51",
        "outputId": "9a77399e-5134-4f77-a05c-6aaa8dd94586"
      },
      "execution_count": 21,
      "outputs": [
        {
          "output_type": "execute_result",
          "data": {
            "text/plain": [
              "('2', '1', '4', '1', '2', '4')"
            ]
          },
          "metadata": {},
          "execution_count": 21
        }
      ]
    },
    {
      "cell_type": "code",
      "source": [
        "times = ('santos', 'real madrid', 'millan', 'liverpool', 'bayer de monique')\n",
        "type(times)"
      ],
      "metadata": {
        "colab": {
          "base_uri": "https://localhost:8080/"
        },
        "id": "csMiNNHlabMR",
        "outputId": "55a0e79e-006d-4711-ebc1-7f3d83bd71fe"
      },
      "execution_count": 40,
      "outputs": [
        {
          "output_type": "execute_result",
          "data": {
            "text/plain": [
              "tuple"
            ]
          },
          "metadata": {},
          "execution_count": 40
        }
      ]
    },
    {
      "cell_type": "code",
      "source": [
        "tuple(times)"
      ],
      "metadata": {
        "colab": {
          "base_uri": "https://localhost:8080/"
        },
        "id": "_MpUEoduauDA",
        "outputId": "51a7ffd6-d3d8-47f8-e5a9-a5dd174ef437"
      },
      "execution_count": 41,
      "outputs": [
        {
          "output_type": "execute_result",
          "data": {
            "text/plain": [
              "('santos', 'real madrid', 'millan', 'liverpool', 'bayer de monique')"
            ]
          },
          "metadata": {},
          "execution_count": 41
        }
      ]
    },
    {
      "cell_type": "code",
      "source": [
        "for nome in times:\n",
        "  print(nome)"
      ],
      "metadata": {
        "colab": {
          "base_uri": "https://localhost:8080/"
        },
        "id": "4gk0kmXIa1Fg",
        "outputId": "17fa06c1-2211-431a-f9fd-c25148c87a91"
      },
      "execution_count": 42,
      "outputs": [
        {
          "output_type": "stream",
          "name": "stdout",
          "text": [
            "santos\n",
            "real madrid\n",
            "millan\n",
            "liverpool\n",
            "bayer de monique\n"
          ]
        }
      ]
    },
    {
      "cell_type": "code",
      "source": [
        "for num, nome in enumerate(times):\n",
        "  print(num, '-', nome)"
      ],
      "metadata": {
        "colab": {
          "base_uri": "https://localhost:8080/"
        },
        "id": "fnnGDfGxa7U4",
        "outputId": "da98cf05-4d91-4de4-ef7e-279169cf8f17"
      },
      "execution_count": 45,
      "outputs": [
        {
          "output_type": "stream",
          "name": "stdout",
          "text": [
            "0 - santos\n",
            "1 - real madrid\n",
            "2 - millan\n",
            "3 - liverpool\n",
            "4 - bayer de monique\n"
          ]
        }
      ]
    },
    {
      "cell_type": "code",
      "source": [
        "for num, nome in enumerate(times):\n",
        "  print(num, '-', nome)\n",
        "  print('-=' * 30, '=-')"
      ],
      "metadata": {
        "colab": {
          "base_uri": "https://localhost:8080/"
        },
        "id": "bipHn1mgbc2X",
        "outputId": "8b1fb655-bf29-48c8-9b39-9dee889a6fc8"
      },
      "execution_count": 48,
      "outputs": [
        {
          "output_type": "stream",
          "name": "stdout",
          "text": [
            "0 - santos\n",
            "-=-=-=-=-=-=-=-=-=-=-=-=-=-=-=-=-=-=-=-=-=-=-=-=-=-=-=-=-=-= =-\n",
            "1 - real madrid\n",
            "-=-=-=-=-=-=-=-=-=-=-=-=-=-=-=-=-=-=-=-=-=-=-=-=-=-=-=-=-=-= =-\n",
            "2 - millan\n",
            "-=-=-=-=-=-=-=-=-=-=-=-=-=-=-=-=-=-=-=-=-=-=-=-=-=-=-=-=-=-= =-\n",
            "3 - liverpool\n",
            "-=-=-=-=-=-=-=-=-=-=-=-=-=-=-=-=-=-=-=-=-=-=-=-=-=-=-=-=-=-= =-\n",
            "4 - bayer de monique\n",
            "-=-=-=-=-=-=-=-=-=-=-=-=-=-=-=-=-=-=-=-=-=-=-=-=-=-=-=-=-=-= =-\n"
          ]
        }
      ]
    },
    {
      "cell_type": "code",
      "source": [
        "for num, nome in enumerate(frutas):\n",
        "  print(num, '-', nome.upper())"
      ],
      "metadata": {
        "colab": {
          "base_uri": "https://localhost:8080/"
        },
        "id": "shMLhWfOb5x3",
        "outputId": "3d0fd662-68c5-4ab5-8020-2d7ca9522bb3"
      },
      "execution_count": 71,
      "outputs": [
        {
          "output_type": "stream",
          "name": "stdout",
          "text": [
            "0 - ABACATE\n",
            "1 - BANANA\n",
            "2 - CAJA\n"
          ]
        }
      ]
    },
    {
      "cell_type": "code",
      "source": [
        "for num, nome in enumerate(frutas):\n",
        "  frutas[num] = nome.upper()"
      ],
      "metadata": {
        "id": "x0TYawnYhWmj"
      },
      "execution_count": 74,
      "outputs": []
    },
    {
      "cell_type": "code",
      "source": [
        "i = 0\n",
        "for fruta in frutas:\n",
        "  frutas[i] = fruta.lower()\n",
        "  i += 1\n",
        "  print(fruta)\n"
      ],
      "metadata": {
        "colab": {
          "base_uri": "https://localhost:8080/"
        },
        "id": "zFddQSw2hClo",
        "outputId": "38f00807-1b35-487f-cb01-389b13c71d05"
      },
      "execution_count": 73,
      "outputs": [
        {
          "output_type": "stream",
          "name": "stdout",
          "text": [
            "abacate\n",
            "banana\n",
            "caja\n"
          ]
        }
      ]
    },
    {
      "cell_type": "markdown",
      "source": [
        "##Dicionario"
      ],
      "metadata": {
        "id": "9obD5VZHepBI"
      }
    },
    {
      "cell_type": "code",
      "source": [
        "dicionario = {'nome': 'julio', 'idade': '22', 'cor': 'verde', 'altura': 1.72, 'massa': 90}"
      ],
      "metadata": {
        "id": "LPdjakjteqXn"
      },
      "execution_count": 76,
      "outputs": []
    },
    {
      "cell_type": "code",
      "source": [
        "dicionario['idade']"
      ],
      "metadata": {
        "colab": {
          "base_uri": "https://localhost:8080/",
          "height": 35
        },
        "id": "ILffDs_giWtd",
        "outputId": "ad1c1604-b724-4292-d063-4fc0b13b972d"
      },
      "execution_count": 81,
      "outputs": [
        {
          "output_type": "execute_result",
          "data": {
            "text/plain": [
              "'22'"
            ],
            "application/vnd.google.colaboratory.intrinsic+json": {
              "type": "string"
            }
          },
          "metadata": {},
          "execution_count": 81
        }
      ]
    },
    {
      "cell_type": "code",
      "source": [
        "print(type(dicionario))"
      ],
      "metadata": {
        "colab": {
          "base_uri": "https://localhost:8080/"
        },
        "id": "84jfYF_QivNt",
        "outputId": "98ea5e7e-104b-4c77-c8aa-fef87d63b05c"
      },
      "execution_count": 82,
      "outputs": [
        {
          "output_type": "stream",
          "name": "stdout",
          "text": [
            "<class 'dict'>\n"
          ]
        }
      ]
    },
    {
      "cell_type": "code",
      "source": [
        "dicionario.keys()"
      ],
      "metadata": {
        "colab": {
          "base_uri": "https://localhost:8080/"
        },
        "id": "RhGf7j99i184",
        "outputId": "b75039c1-cbce-48cc-f588-07efda03a6dc"
      },
      "execution_count": 83,
      "outputs": [
        {
          "output_type": "execute_result",
          "data": {
            "text/plain": [
              "dict_keys(['nome', 'idade', 'cor', 'altura', 'massa'])"
            ]
          },
          "metadata": {},
          "execution_count": 83
        }
      ]
    },
    {
      "cell_type": "code",
      "source": [
        "dicionario.values()"
      ],
      "metadata": {
        "colab": {
          "base_uri": "https://localhost:8080/"
        },
        "id": "mXksInrDjEbm",
        "outputId": "48f2593d-03e2-4a58-b3a7-7868fa58dda5"
      },
      "execution_count": 87,
      "outputs": [
        {
          "output_type": "execute_result",
          "data": {
            "text/plain": [
              "dict_values(['julio', '22', 'verde', 1.72, 90])"
            ]
          },
          "metadata": {},
          "execution_count": 87
        }
      ]
    },
    {
      "cell_type": "code",
      "source": [
        "dicionario.items()"
      ],
      "metadata": {
        "colab": {
          "base_uri": "https://localhost:8080/"
        },
        "id": "JMXDYYrsjGJf",
        "outputId": "026349f3-2418-4e30-a89b-767c301f76c8"
      },
      "execution_count": 88,
      "outputs": [
        {
          "output_type": "execute_result",
          "data": {
            "text/plain": [
              "dict_items([('nome', 'julio'), ('idade', '22'), ('cor', 'verde'), ('altura', 1.72), ('massa', 90)])"
            ]
          },
          "metadata": {},
          "execution_count": 88
        }
      ]
    },
    {
      "cell_type": "code",
      "source": [
        "for chave in dicionario.keys():\n",
        "  print(chave)"
      ],
      "metadata": {
        "colab": {
          "base_uri": "https://localhost:8080/"
        },
        "id": "hPa73BJCi5bH",
        "outputId": "747f2c64-8c4c-4365-fb1a-db1d17cca474"
      },
      "execution_count": 92,
      "outputs": [
        {
          "output_type": "stream",
          "name": "stdout",
          "text": [
            "nome\n",
            "idade\n",
            "cor\n",
            "altura\n",
            "massa\n"
          ]
        }
      ]
    },
    {
      "cell_type": "code",
      "source": [
        "for valor in dicionario.values():\n",
        "  print(valor)"
      ],
      "metadata": {
        "colab": {
          "base_uri": "https://localhost:8080/"
        },
        "id": "5PEuzRdijc6I",
        "outputId": "0103619a-49df-46fa-ecd4-288be5988267"
      },
      "execution_count": 93,
      "outputs": [
        {
          "output_type": "stream",
          "name": "stdout",
          "text": [
            "julio\n",
            "22\n",
            "verde\n",
            "1.72\n",
            "90\n"
          ]
        }
      ]
    },
    {
      "cell_type": "code",
      "source": [
        "for item in dicionario.items():\n",
        "  print(item)"
      ],
      "metadata": {
        "colab": {
          "base_uri": "https://localhost:8080/"
        },
        "id": "fEOV3EaWj7oZ",
        "outputId": "1a36b647-11fd-41cd-d2ba-223075ae84da"
      },
      "execution_count": 94,
      "outputs": [
        {
          "output_type": "stream",
          "name": "stdout",
          "text": [
            "('nome', 'julio')\n",
            "('idade', '22')\n",
            "('cor', 'verde')\n",
            "('altura', 1.72)\n",
            "('massa', 90)\n"
          ]
        }
      ]
    },
    {
      "cell_type": "code",
      "source": [
        "for key, value in dicionario.items():\n",
        "  print(key, '-', value)"
      ],
      "metadata": {
        "colab": {
          "base_uri": "https://localhost:8080/"
        },
        "id": "7G64YE_7kX5h",
        "outputId": "26f72f7a-9121-461b-9474-7f4927f414a4"
      },
      "execution_count": 95,
      "outputs": [
        {
          "output_type": "stream",
          "name": "stdout",
          "text": [
            "nome - julio\n",
            "idade - 22\n",
            "cor - verde\n",
            "altura - 1.72\n",
            "massa - 90\n"
          ]
        }
      ]
    },
    {
      "cell_type": "code",
      "source": [
        "dicionario['pai'] = 'pereira'"
      ],
      "metadata": {
        "id": "sQlO8_5UkuCE"
      },
      "execution_count": 98,
      "outputs": []
    },
    {
      "cell_type": "code",
      "source": [
        "dicionario['massa'] = 88"
      ],
      "metadata": {
        "id": "jUsc-9tYlENs"
      },
      "execution_count": 102,
      "outputs": []
    },
    {
      "cell_type": "code",
      "source": [
        "del(dicionario['pai'])"
      ],
      "metadata": {
        "id": "p6u8PFhMlO2d"
      },
      "execution_count": 109,
      "outputs": []
    },
    {
      "cell_type": "code",
      "source": [
        "for key, value in dicionario.items():\n",
        "  print(key, '-', value)"
      ],
      "metadata": {
        "colab": {
          "base_uri": "https://localhost:8080/"
        },
        "id": "uXZTUyKyk-HB",
        "outputId": "479232aa-72dc-4054-f614-9968801d4fd0"
      },
      "execution_count": 110,
      "outputs": [
        {
          "output_type": "stream",
          "name": "stdout",
          "text": [
            "nome - julio\n",
            "idade - 22\n",
            "cor - verde\n",
            "altura - 1.72\n",
            "massa - 88\n"
          ]
        }
      ]
    }
  ]
}