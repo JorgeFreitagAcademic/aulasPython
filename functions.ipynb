{
  "nbformat": 4,
  "nbformat_minor": 0,
  "metadata": {
    "colab": {
      "provenance": [],
      "authorship_tag": "ABX9TyOb/cRHbuA5YMrhz+jdi2vs",
      "include_colab_link": true
    },
    "kernelspec": {
      "name": "python3",
      "display_name": "Python 3"
    },
    "language_info": {
      "name": "python"
    }
  },
  "cells": [
    {
      "cell_type": "markdown",
      "metadata": {
        "id": "view-in-github",
        "colab_type": "text"
      },
      "source": [
        "<a href=\"https://colab.research.google.com/github/JorgeFreitagAcademic/aulasPython/blob/main/functions.ipynb\" target=\"_parent\"><img src=\"https://colab.research.google.com/assets/colab-badge.svg\" alt=\"Open In Colab\"/></a>"
      ]
    },
    {
      "cell_type": "markdown",
      "source": [
        "#Bibliotecas importadas"
      ],
      "metadata": {
        "id": "uTOU7v6QjnKS"
      }
    },
    {
      "cell_type": "code",
      "execution_count": 16,
      "metadata": {
        "id": "wx3MF149fUr7"
      },
      "outputs": [],
      "source": [
        "import pandas as pd\n",
        "import random"
      ]
    },
    {
      "cell_type": "markdown",
      "source": [
        "#Funções"
      ],
      "metadata": {
        "id": "XZq3aCIGjrOD"
      }
    },
    {
      "cell_type": "markdown",
      "source": [
        "##Importando dataframe"
      ],
      "metadata": {
        "id": "qpSYg9FXjvYI"
      }
    },
    {
      "cell_type": "code",
      "source": [
        "df = pd.read_csv('/content/perguntas_alunos - Página1.csv')"
      ],
      "metadata": {
        "id": "RPZ-esL1j1YT"
      },
      "execution_count": 17,
      "outputs": []
    },
    {
      "cell_type": "code",
      "source": [
        "df.columns"
      ],
      "metadata": {
        "id": "6U1DnbyRkhIQ",
        "outputId": "8b3cc2b1-d820-43b3-d9fe-97a6bcf9890c",
        "colab": {
          "base_uri": "https://localhost:8080/"
        }
      },
      "execution_count": 18,
      "outputs": [
        {
          "output_type": "execute_result",
          "data": {
            "text/plain": [
              "Index(['Nome', 'Data_de_nascimento', 'endereco', 'cidade', 'estado',\n",
              "       'nome mae', 'nome pai', 'casado', 'filhos', 'esporte_favorito',\n",
              "       'fruta favorita', 'profissao', 'altura', 'IDADE', 'PESO'],\n",
              "      dtype='object')"
            ]
          },
          "metadata": {},
          "execution_count": 18
        }
      ]
    },
    {
      "cell_type": "markdown",
      "source": [
        "###Adendo sobre funçoes"
      ],
      "metadata": {
        "id": "LnZpIyXMlkhC"
      }
    },
    {
      "cell_type": "markdown",
      "source": [
        "####Criando funções"
      ],
      "metadata": {
        "id": "60BsKHAfn51S"
      }
    },
    {
      "cell_type": "code",
      "source": [
        "def acc(num):\n",
        "  num += 1\n",
        "  return num"
      ],
      "metadata": {
        "id": "vEy4tm4Wl61T"
      },
      "execution_count": 19,
      "outputs": []
    },
    {
      "cell_type": "code",
      "source": [
        "acc(1)"
      ],
      "metadata": {
        "colab": {
          "base_uri": "https://localhost:8080/"
        },
        "id": "hLv_RCpTmmVn",
        "outputId": "b4356dbb-3ffd-402c-fbb7-25a7425c5f5b"
      },
      "execution_count": 20,
      "outputs": [
        {
          "output_type": "execute_result",
          "data": {
            "text/plain": [
              "2"
            ]
          },
          "metadata": {},
          "execution_count": 20
        }
      ]
    },
    {
      "cell_type": "markdown",
      "source": [
        "####Função de multiplo valor"
      ],
      "metadata": {
        "id": "Dnosq_-pn24S"
      }
    },
    {
      "cell_type": "code",
      "source": [
        "def soma(n1, n2):\n",
        "  sum = n1 + n2\n",
        "  # return sum\n",
        "  return print(f'A soma do número {n1} com o número {n2} foi {n1 + n2}')"
      ],
      "metadata": {
        "id": "osKP_q6Zn2ob"
      },
      "execution_count": 21,
      "outputs": []
    },
    {
      "cell_type": "code",
      "source": [
        "soma(2,6)"
      ],
      "metadata": {
        "colab": {
          "base_uri": "https://localhost:8080/"
        },
        "id": "knEzFxQpoFTB",
        "outputId": "356b961f-ca84-405b-e034-b52e7f5cb855"
      },
      "execution_count": 22,
      "outputs": [
        {
          "output_type": "stream",
          "name": "stdout",
          "text": [
            "A soma do número 2 com o número 6 foi 8\n"
          ]
        }
      ]
    },
    {
      "cell_type": "markdown",
      "source": [
        "####Exemplo de função em lista"
      ],
      "metadata": {
        "id": "25G0QcchpPEC"
      }
    },
    {
      "cell_type": "markdown",
      "source": [
        "Lista automática aleatoria"
      ],
      "metadata": {
        "id": "Z5USy_u4qtwZ"
      }
    },
    {
      "cell_type": "code",
      "source": [
        "lista = []\n",
        "listlen = random.randint(1, 11)\n",
        "while len(lista) < listlen:\n",
        "  for x in range(1, listlen + 1):\n",
        "    x = x * random.randint(1, 11)\n",
        "    lista.append(x)\n",
        "print(lista)"
      ],
      "metadata": {
        "colab": {
          "base_uri": "https://localhost:8080/"
        },
        "id": "tgKLRgJjpnNE",
        "outputId": "04b4c591-1cd2-4e7c-bd4a-9a9bbbd460a4"
      },
      "execution_count": 23,
      "outputs": [
        {
          "output_type": "stream",
          "name": "stdout",
          "text": [
            "[4, 6, 18, 36, 10, 24, 56, 88, 72]\n"
          ]
        }
      ]
    },
    {
      "cell_type": "markdown",
      "source": [
        "Exemplo de objetivo da função"
      ],
      "metadata": {
        "id": "RUUtdif0qqII"
      }
    },
    {
      "cell_type": "code",
      "source": [
        "lista_2 = []\n",
        "for i in lista:\n",
        "  lista_2.append(i ** 2)\n",
        "print(lista_2)"
      ],
      "metadata": {
        "colab": {
          "base_uri": "https://localhost:8080/"
        },
        "id": "GYJaeSVSp7-x",
        "outputId": "9180ee36-1e71-4625-918e-4a0ac5e4768b"
      },
      "execution_count": 24,
      "outputs": [
        {
          "output_type": "stream",
          "name": "stdout",
          "text": [
            "[16, 36, 324, 1296, 100, 576, 3136, 7744, 5184]\n"
          ]
        }
      ]
    },
    {
      "cell_type": "markdown",
      "source": [
        "Implementação em function"
      ],
      "metadata": {
        "id": "PWmaa4HuqwT8"
      }
    },
    {
      "cell_type": "code",
      "source": [
        "def lista_quadrado(lista_1):\n",
        "  lista_2 = []\n",
        "  for i in lista_1:\n",
        "    lista_2.append(i ** 2)\n",
        "  return lista_2\n",
        "lista_quadrado(lista)"
      ],
      "metadata": {
        "colab": {
          "base_uri": "https://localhost:8080/"
        },
        "id": "wYTgxHcEpWYx",
        "outputId": "065f1c0e-19a0-4ea5-99fb-52848350cbc6"
      },
      "execution_count": 25,
      "outputs": [
        {
          "output_type": "execute_result",
          "data": {
            "text/plain": [
              "[16, 36, 324, 1296, 100, 576, 3136, 7744, 5184]"
            ]
          },
          "metadata": {},
          "execution_count": 25
        }
      ]
    },
    {
      "cell_type": "markdown",
      "source": [
        "##Implementando funções ao dataframe"
      ],
      "metadata": {
        "id": "Dmks9Z0mrxN6"
      }
    },
    {
      "cell_type": "code",
      "source": [
        "df.shape"
      ],
      "metadata": {
        "colab": {
          "base_uri": "https://localhost:8080/"
        },
        "id": "bzFTDWGTr1rR",
        "outputId": "5c77f710-2e78-4941-84aa-cd7532930c1f"
      },
      "execution_count": 26,
      "outputs": [
        {
          "output_type": "execute_result",
          "data": {
            "text/plain": [
              "(8, 15)"
            ]
          },
          "metadata": {},
          "execution_count": 26
        }
      ]
    },
    {
      "cell_type": "markdown",
      "source": [
        "Feature Name"
      ],
      "metadata": {
        "id": "4CvNifCDsicS"
      }
    },
    {
      "cell_type": "markdown",
      "source": [
        "feature Name foi renomeada (Nome => NOME)"
      ],
      "metadata": {
        "id": "3hQgI4Sus-yj"
      }
    },
    {
      "cell_type": "code",
      "source": [
        "df.rename(columns = {'Nome':'NOME'}, inplace = True)\n",
        "df"
      ],
      "metadata": {
        "colab": {
          "base_uri": "https://localhost:8080/",
          "height": 729
        },
        "id": "GOBTNEWVsd2c",
        "outputId": "da9ec3f8-b4d2-4963-f154-2a0b3df65f3e"
      },
      "execution_count": 27,
      "outputs": [
        {
          "output_type": "execute_result",
          "data": {
            "text/plain": [
              "                                  NOME Data_de_nascimento  \\\n",
              "0           Jose Vitor da Silva Santos         08/04/2002   \n",
              "1     Ediney dos anjos Blasques Andres         18/12/1995   \n",
              "2  Pedro Henrique Bergamini Hupalowski         26/12/2000   \n",
              "3                        Thiago Miguel         04/08/1997   \n",
              "4     Jorge Henrique Domingues Freitag         29/04/2002   \n",
              "5                         Kevin Rafael         17/09/1999   \n",
              "6           Joao Pedro da Silva Santos         08/04/2002   \n",
              "7    Eduardo Francisco Mota dos Santos         10/10/2001   \n",
              "\n",
              "                         endereco    cidade  estado  \\\n",
              "0    Rua Eurico Gonçalves Berbert   Maringá  Paraná   \n",
              "1        Rua Germano Berloffa,190  Paiçandu  Paraná   \n",
              "2                    Rua Taí 1178   Sarandi  Paraná   \n",
              "3            R. J Bonifacio N°134   Sarandi  Paraná   \n",
              "4  Rua Vereador Nelson Abrão, 625   Maringá  Paraná   \n",
              "5             Rua antonio novelli  Paiçandu  Paraná   \n",
              "6     R. Eurico Gonçalves Berbert   Maringá  Paraná   \n",
              "7        Rua Bragança, 345, AP204   Maringá  Paraná   \n",
              "\n",
              "                               nome mae                       nome pai casado  \\\n",
              "0              Maria de Fatima da Silva             Rodrigo dos Santos    Não   \n",
              "1  Vera Lucia dos Anjos Blasques Andres      Eldo Jose Blasques Andres    Não   \n",
              "2     Roberta Juliana Pereira Bergamini       Andre Douglas Hupalowski    Não   \n",
              "3                          Marina Maria                 Devanil Miguel    Não   \n",
              "4                  Rosa Maria Domingues         Jorge Henrique Freitag    NaN   \n",
              "5                       Elaine Vigarini               Tatiano Oliveira    Não   \n",
              "6              Maria de Fatima da Silva             Rodrigo dos Santos    Não   \n",
              "7                  Inês Mota dos Santos  Reinalvo Francisco dos Santos    Não   \n",
              "\n",
              "  filhos              esporte_favorito fruta favorita  \\\n",
              "0    Não                      Basquete        Laranja   \n",
              "1    Não  Arrancada e corrida de carro        Morgote   \n",
              "2    Não                           NaN          Manga   \n",
              "3    Não                      Ciclismo         Goiaba   \n",
              "4    Não                          Judô          Manga   \n",
              "5    Não                       Futebol           Maçã   \n",
              "6    Não                       Futebol       Melancia   \n",
              "7    Não                      Basquete        Laranja   \n",
              "\n",
              "                              profissao altura  IDADE  PESO  \n",
              "0                             Estudante   1,81     20    88  \n",
              "1  Assistente Admistrativo e Transporte   1,75     26  81,5  \n",
              "2                             Estudante    1,8     21    92  \n",
              "3                             Repositor   1.78     25  79,4  \n",
              "4                             Estudante   1,76     20    95  \n",
              "5                              Vendedor    1,9     23   120  \n",
              "6                             Estudante   1,82     20  86,6  \n",
              "7                              Vendedor   1,83     21    65  "
            ],
            "text/html": [
              "\n",
              "  <div id=\"df-f7b83e0b-f939-47b2-ab77-4b90d8da51fc\">\n",
              "    <div class=\"colab-df-container\">\n",
              "      <div>\n",
              "<style scoped>\n",
              "    .dataframe tbody tr th:only-of-type {\n",
              "        vertical-align: middle;\n",
              "    }\n",
              "\n",
              "    .dataframe tbody tr th {\n",
              "        vertical-align: top;\n",
              "    }\n",
              "\n",
              "    .dataframe thead th {\n",
              "        text-align: right;\n",
              "    }\n",
              "</style>\n",
              "<table border=\"1\" class=\"dataframe\">\n",
              "  <thead>\n",
              "    <tr style=\"text-align: right;\">\n",
              "      <th></th>\n",
              "      <th>NOME</th>\n",
              "      <th>Data_de_nascimento</th>\n",
              "      <th>endereco</th>\n",
              "      <th>cidade</th>\n",
              "      <th>estado</th>\n",
              "      <th>nome mae</th>\n",
              "      <th>nome pai</th>\n",
              "      <th>casado</th>\n",
              "      <th>filhos</th>\n",
              "      <th>esporte_favorito</th>\n",
              "      <th>fruta favorita</th>\n",
              "      <th>profissao</th>\n",
              "      <th>altura</th>\n",
              "      <th>IDADE</th>\n",
              "      <th>PESO</th>\n",
              "    </tr>\n",
              "  </thead>\n",
              "  <tbody>\n",
              "    <tr>\n",
              "      <th>0</th>\n",
              "      <td>Jose Vitor da Silva Santos</td>\n",
              "      <td>08/04/2002</td>\n",
              "      <td>Rua Eurico Gonçalves Berbert</td>\n",
              "      <td>Maringá</td>\n",
              "      <td>Paraná</td>\n",
              "      <td>Maria de Fatima da Silva</td>\n",
              "      <td>Rodrigo dos Santos</td>\n",
              "      <td>Não</td>\n",
              "      <td>Não</td>\n",
              "      <td>Basquete</td>\n",
              "      <td>Laranja</td>\n",
              "      <td>Estudante</td>\n",
              "      <td>1,81</td>\n",
              "      <td>20</td>\n",
              "      <td>88</td>\n",
              "    </tr>\n",
              "    <tr>\n",
              "      <th>1</th>\n",
              "      <td>Ediney dos anjos Blasques Andres</td>\n",
              "      <td>18/12/1995</td>\n",
              "      <td>Rua Germano Berloffa,190</td>\n",
              "      <td>Paiçandu</td>\n",
              "      <td>Paraná</td>\n",
              "      <td>Vera Lucia dos Anjos Blasques Andres</td>\n",
              "      <td>Eldo Jose Blasques Andres</td>\n",
              "      <td>Não</td>\n",
              "      <td>Não</td>\n",
              "      <td>Arrancada e corrida de carro</td>\n",
              "      <td>Morgote</td>\n",
              "      <td>Assistente Admistrativo e Transporte</td>\n",
              "      <td>1,75</td>\n",
              "      <td>26</td>\n",
              "      <td>81,5</td>\n",
              "    </tr>\n",
              "    <tr>\n",
              "      <th>2</th>\n",
              "      <td>Pedro Henrique Bergamini Hupalowski</td>\n",
              "      <td>26/12/2000</td>\n",
              "      <td>Rua Taí 1178</td>\n",
              "      <td>Sarandi</td>\n",
              "      <td>Paraná</td>\n",
              "      <td>Roberta Juliana Pereira Bergamini</td>\n",
              "      <td>Andre Douglas Hupalowski</td>\n",
              "      <td>Não</td>\n",
              "      <td>Não</td>\n",
              "      <td>NaN</td>\n",
              "      <td>Manga</td>\n",
              "      <td>Estudante</td>\n",
              "      <td>1,8</td>\n",
              "      <td>21</td>\n",
              "      <td>92</td>\n",
              "    </tr>\n",
              "    <tr>\n",
              "      <th>3</th>\n",
              "      <td>Thiago Miguel</td>\n",
              "      <td>04/08/1997</td>\n",
              "      <td>R. J Bonifacio N°134</td>\n",
              "      <td>Sarandi</td>\n",
              "      <td>Paraná</td>\n",
              "      <td>Marina Maria</td>\n",
              "      <td>Devanil Miguel</td>\n",
              "      <td>Não</td>\n",
              "      <td>Não</td>\n",
              "      <td>Ciclismo</td>\n",
              "      <td>Goiaba</td>\n",
              "      <td>Repositor</td>\n",
              "      <td>1.78</td>\n",
              "      <td>25</td>\n",
              "      <td>79,4</td>\n",
              "    </tr>\n",
              "    <tr>\n",
              "      <th>4</th>\n",
              "      <td>Jorge Henrique Domingues Freitag</td>\n",
              "      <td>29/04/2002</td>\n",
              "      <td>Rua Vereador Nelson Abrão, 625</td>\n",
              "      <td>Maringá</td>\n",
              "      <td>Paraná</td>\n",
              "      <td>Rosa Maria Domingues</td>\n",
              "      <td>Jorge Henrique Freitag</td>\n",
              "      <td>NaN</td>\n",
              "      <td>Não</td>\n",
              "      <td>Judô</td>\n",
              "      <td>Manga</td>\n",
              "      <td>Estudante</td>\n",
              "      <td>1,76</td>\n",
              "      <td>20</td>\n",
              "      <td>95</td>\n",
              "    </tr>\n",
              "    <tr>\n",
              "      <th>5</th>\n",
              "      <td>Kevin Rafael</td>\n",
              "      <td>17/09/1999</td>\n",
              "      <td>Rua antonio novelli</td>\n",
              "      <td>Paiçandu</td>\n",
              "      <td>Paraná</td>\n",
              "      <td>Elaine Vigarini</td>\n",
              "      <td>Tatiano Oliveira</td>\n",
              "      <td>Não</td>\n",
              "      <td>Não</td>\n",
              "      <td>Futebol</td>\n",
              "      <td>Maçã</td>\n",
              "      <td>Vendedor</td>\n",
              "      <td>1,9</td>\n",
              "      <td>23</td>\n",
              "      <td>120</td>\n",
              "    </tr>\n",
              "    <tr>\n",
              "      <th>6</th>\n",
              "      <td>Joao Pedro da Silva Santos</td>\n",
              "      <td>08/04/2002</td>\n",
              "      <td>R. Eurico Gonçalves Berbert</td>\n",
              "      <td>Maringá</td>\n",
              "      <td>Paraná</td>\n",
              "      <td>Maria de Fatima da Silva</td>\n",
              "      <td>Rodrigo dos Santos</td>\n",
              "      <td>Não</td>\n",
              "      <td>Não</td>\n",
              "      <td>Futebol</td>\n",
              "      <td>Melancia</td>\n",
              "      <td>Estudante</td>\n",
              "      <td>1,82</td>\n",
              "      <td>20</td>\n",
              "      <td>86,6</td>\n",
              "    </tr>\n",
              "    <tr>\n",
              "      <th>7</th>\n",
              "      <td>Eduardo Francisco Mota dos Santos</td>\n",
              "      <td>10/10/2001</td>\n",
              "      <td>Rua Bragança, 345, AP204</td>\n",
              "      <td>Maringá</td>\n",
              "      <td>Paraná</td>\n",
              "      <td>Inês Mota dos Santos</td>\n",
              "      <td>Reinalvo Francisco dos Santos</td>\n",
              "      <td>Não</td>\n",
              "      <td>Não</td>\n",
              "      <td>Basquete</td>\n",
              "      <td>Laranja</td>\n",
              "      <td>Vendedor</td>\n",
              "      <td>1,83</td>\n",
              "      <td>21</td>\n",
              "      <td>65</td>\n",
              "    </tr>\n",
              "  </tbody>\n",
              "</table>\n",
              "</div>\n",
              "      <button class=\"colab-df-convert\" onclick=\"convertToInteractive('df-f7b83e0b-f939-47b2-ab77-4b90d8da51fc')\"\n",
              "              title=\"Convert this dataframe to an interactive table.\"\n",
              "              style=\"display:none;\">\n",
              "        \n",
              "  <svg xmlns=\"http://www.w3.org/2000/svg\" height=\"24px\"viewBox=\"0 0 24 24\"\n",
              "       width=\"24px\">\n",
              "    <path d=\"M0 0h24v24H0V0z\" fill=\"none\"/>\n",
              "    <path d=\"M18.56 5.44l.94 2.06.94-2.06 2.06-.94-2.06-.94-.94-2.06-.94 2.06-2.06.94zm-11 1L8.5 8.5l.94-2.06 2.06-.94-2.06-.94L8.5 2.5l-.94 2.06-2.06.94zm10 10l.94 2.06.94-2.06 2.06-.94-2.06-.94-.94-2.06-.94 2.06-2.06.94z\"/><path d=\"M17.41 7.96l-1.37-1.37c-.4-.4-.92-.59-1.43-.59-.52 0-1.04.2-1.43.59L10.3 9.45l-7.72 7.72c-.78.78-.78 2.05 0 2.83L4 21.41c.39.39.9.59 1.41.59.51 0 1.02-.2 1.41-.59l7.78-7.78 2.81-2.81c.8-.78.8-2.07 0-2.86zM5.41 20L4 18.59l7.72-7.72 1.47 1.35L5.41 20z\"/>\n",
              "  </svg>\n",
              "      </button>\n",
              "      \n",
              "  <style>\n",
              "    .colab-df-container {\n",
              "      display:flex;\n",
              "      flex-wrap:wrap;\n",
              "      gap: 12px;\n",
              "    }\n",
              "\n",
              "    .colab-df-convert {\n",
              "      background-color: #E8F0FE;\n",
              "      border: none;\n",
              "      border-radius: 50%;\n",
              "      cursor: pointer;\n",
              "      display: none;\n",
              "      fill: #1967D2;\n",
              "      height: 32px;\n",
              "      padding: 0 0 0 0;\n",
              "      width: 32px;\n",
              "    }\n",
              "\n",
              "    .colab-df-convert:hover {\n",
              "      background-color: #E2EBFA;\n",
              "      box-shadow: 0px 1px 2px rgba(60, 64, 67, 0.3), 0px 1px 3px 1px rgba(60, 64, 67, 0.15);\n",
              "      fill: #174EA6;\n",
              "    }\n",
              "\n",
              "    [theme=dark] .colab-df-convert {\n",
              "      background-color: #3B4455;\n",
              "      fill: #D2E3FC;\n",
              "    }\n",
              "\n",
              "    [theme=dark] .colab-df-convert:hover {\n",
              "      background-color: #434B5C;\n",
              "      box-shadow: 0px 1px 3px 1px rgba(0, 0, 0, 0.15);\n",
              "      filter: drop-shadow(0px 1px 2px rgba(0, 0, 0, 0.3));\n",
              "      fill: #FFFFFF;\n",
              "    }\n",
              "  </style>\n",
              "\n",
              "      <script>\n",
              "        const buttonEl =\n",
              "          document.querySelector('#df-f7b83e0b-f939-47b2-ab77-4b90d8da51fc button.colab-df-convert');\n",
              "        buttonEl.style.display =\n",
              "          google.colab.kernel.accessAllowed ? 'block' : 'none';\n",
              "\n",
              "        async function convertToInteractive(key) {\n",
              "          const element = document.querySelector('#df-f7b83e0b-f939-47b2-ab77-4b90d8da51fc');\n",
              "          const dataTable =\n",
              "            await google.colab.kernel.invokeFunction('convertToInteractive',\n",
              "                                                     [key], {});\n",
              "          if (!dataTable) return;\n",
              "\n",
              "          const docLinkHtml = 'Like what you see? Visit the ' +\n",
              "            '<a target=\"_blank\" href=https://colab.research.google.com/notebooks/data_table.ipynb>data table notebook</a>'\n",
              "            + ' to learn more about interactive tables.';\n",
              "          element.innerHTML = '';\n",
              "          dataTable['output_type'] = 'display_data';\n",
              "          await google.colab.output.renderOutput(dataTable, element);\n",
              "          const docLink = document.createElement('div');\n",
              "          docLink.innerHTML = docLinkHtml;\n",
              "          element.appendChild(docLink);\n",
              "        }\n",
              "      </script>\n",
              "    </div>\n",
              "  </div>\n",
              "  "
            ]
          },
          "metadata": {},
          "execution_count": 27
        }
      ]
    },
    {
      "cell_type": "markdown",
      "source": [
        "Transformar todos os nomes em capitalcase"
      ],
      "metadata": {
        "id": "nvVdJnG9tGbK"
      }
    },
    {
      "cell_type": "code",
      "source": [
        "for i in df['NOME']:\n",
        "  print(i)"
      ],
      "metadata": {
        "colab": {
          "base_uri": "https://localhost:8080/"
        },
        "id": "sp82Dkw-tJ4W",
        "outputId": "3b87b193-0b4f-41b7-ca67-81490b111344"
      },
      "execution_count": 28,
      "outputs": [
        {
          "output_type": "stream",
          "name": "stdout",
          "text": [
            "Jose Vitor da Silva Santos\n",
            "Ediney dos anjos Blasques Andres\n",
            "Pedro Henrique Bergamini Hupalowski\n",
            "Thiago Miguel\n",
            "Jorge Henrique Domingues Freitag\n",
            "Kevin Rafael\n",
            "Joao Pedro da Silva Santos\n",
            "Eduardo Francisco Mota dos Santos\n"
          ]
        }
      ]
    },
    {
      "cell_type": "code",
      "source": [
        "for i in df.iterrows():\n",
        "  print(i[1][0])"
      ],
      "metadata": {
        "colab": {
          "base_uri": "https://localhost:8080/"
        },
        "id": "ugiM4NkctfQE",
        "outputId": "11df39f1-1d88-4384-9b75-7bcf7c51c982"
      },
      "execution_count": 29,
      "outputs": [
        {
          "output_type": "stream",
          "name": "stdout",
          "text": [
            "Jose Vitor da Silva Santos\n",
            "Ediney dos anjos Blasques Andres\n",
            "Pedro Henrique Bergamini Hupalowski\n",
            "Thiago Miguel\n",
            "Jorge Henrique Domingues Freitag\n",
            "Kevin Rafael\n",
            "Joao Pedro da Silva Santos\n",
            "Eduardo Francisco Mota dos Santos\n"
          ]
        }
      ]
    },
    {
      "cell_type": "code",
      "source": [
        "for index, nome in enumerate(df['NOME']):\n",
        "  print(index)\n",
        "  print(nome)"
      ],
      "metadata": {
        "colab": {
          "base_uri": "https://localhost:8080/"
        },
        "id": "3kIoZ6MNuUuc",
        "outputId": "a09385e4-1d36-4e25-985b-02e42f30ccb9"
      },
      "execution_count": 30,
      "outputs": [
        {
          "output_type": "stream",
          "name": "stdout",
          "text": [
            "0\n",
            "Jose Vitor da Silva Santos\n",
            "1\n",
            "Ediney dos anjos Blasques Andres\n",
            "2\n",
            "Pedro Henrique Bergamini Hupalowski\n",
            "3\n",
            "Thiago Miguel\n",
            "4\n",
            "Jorge Henrique Domingues Freitag\n",
            "5\n",
            "Kevin Rafael\n",
            "6\n",
            "Joao Pedro da Silva Santos\n",
            "7\n",
            "Eduardo Francisco Mota dos Santos\n"
          ]
        }
      ]
    },
    {
      "cell_type": "code",
      "source": [
        "for i in df['NOME']:\n",
        "  print(i.upper())"
      ],
      "metadata": {
        "colab": {
          "base_uri": "https://localhost:8080/"
        },
        "id": "wJ1KfxgfvJ7U",
        "outputId": "b3beeea5-b853-41ea-d9e5-0b14a94074b5"
      },
      "execution_count": 31,
      "outputs": [
        {
          "output_type": "stream",
          "name": "stdout",
          "text": [
            "JOSE VITOR DA SILVA SANTOS\n",
            "EDINEY DOS ANJOS BLASQUES ANDRES\n",
            "PEDRO HENRIQUE BERGAMINI HUPALOWSKI\n",
            "THIAGO MIGUEL\n",
            "JORGE HENRIQUE DOMINGUES FREITAG\n",
            "KEVIN RAFAEL\n",
            "JOAO PEDRO DA SILVA SANTOS\n",
            "EDUARDO FRANCISCO MOTA DOS SANTOS\n"
          ]
        }
      ]
    },
    {
      "cell_type": "code",
      "source": [
        "def capitalcase(a):\n",
        "  for idx, string in enumerate(a):\n",
        "    a[idx] = string.upper()\n",
        "  return a"
      ],
      "metadata": {
        "id": "r5JxzFSOwEwm"
      },
      "execution_count": 32,
      "outputs": []
    },
    {
      "cell_type": "code",
      "source": [
        "capitalcase(df['endereco'])"
      ],
      "metadata": {
        "colab": {
          "base_uri": "https://localhost:8080/"
        },
        "id": "yGq6FxcoxABP",
        "outputId": "dd6af2fd-80c4-4014-ba4c-44bb88d99a12"
      },
      "execution_count": 33,
      "outputs": [
        {
          "output_type": "stream",
          "name": "stderr",
          "text": [
            "/usr/local/lib/python3.7/dist-packages/ipykernel_launcher.py:3: SettingWithCopyWarning: \n",
            "A value is trying to be set on a copy of a slice from a DataFrame\n",
            "\n",
            "See the caveats in the documentation: https://pandas.pydata.org/pandas-docs/stable/user_guide/indexing.html#returning-a-view-versus-a-copy\n",
            "  This is separate from the ipykernel package so we can avoid doing imports until\n"
          ]
        },
        {
          "output_type": "execute_result",
          "data": {
            "text/plain": [
              "0      RUA EURICO GONÇALVES BERBERT\n",
              "1          RUA GERMANO BERLOFFA,190\n",
              "2                      RUA TAÍ 1178\n",
              "3              R. J BONIFACIO N°134\n",
              "4    RUA VEREADOR NELSON ABRÃO, 625\n",
              "5               RUA ANTONIO NOVELLI\n",
              "6       R. EURICO GONÇALVES BERBERT\n",
              "7          RUA BRAGANÇA, 345, AP204\n",
              "Name: endereco, dtype: object"
            ]
          },
          "metadata": {},
          "execution_count": 33
        }
      ]
    },
    {
      "cell_type": "code",
      "source": [
        "capitalcase(df['fruta favorita'])"
      ],
      "metadata": {
        "colab": {
          "base_uri": "https://localhost:8080/"
        },
        "id": "GsQ1SvrhxjCC",
        "outputId": "69a26e9e-d507-486d-93ac-4728c87fae68"
      },
      "execution_count": 34,
      "outputs": [
        {
          "output_type": "stream",
          "name": "stderr",
          "text": [
            "/usr/local/lib/python3.7/dist-packages/ipykernel_launcher.py:3: SettingWithCopyWarning: \n",
            "A value is trying to be set on a copy of a slice from a DataFrame\n",
            "\n",
            "See the caveats in the documentation: https://pandas.pydata.org/pandas-docs/stable/user_guide/indexing.html#returning-a-view-versus-a-copy\n",
            "  This is separate from the ipykernel package so we can avoid doing imports until\n"
          ]
        },
        {
          "output_type": "execute_result",
          "data": {
            "text/plain": [
              "0     LARANJA\n",
              "1     MORGOTE\n",
              "2       MANGA\n",
              "3      GOIABA\n",
              "4       MANGA\n",
              "5        MAÇÃ\n",
              "6    MELANCIA\n",
              "7     LARANJA\n",
              "Name: fruta favorita, dtype: object"
            ]
          },
          "metadata": {},
          "execution_count": 34
        }
      ]
    },
    {
      "cell_type": "markdown",
      "source": [
        "Feature *Numéricos*"
      ],
      "metadata": {
        "id": "Zs4s9GzmyS0D"
      }
    },
    {
      "cell_type": "code",
      "source": [
        "df.info()"
      ],
      "metadata": {
        "colab": {
          "base_uri": "https://localhost:8080/"
        },
        "id": "S12dbpcByWcy",
        "outputId": "44ae7bf3-44c2-4ded-b5d8-09b8a8b0a9e5"
      },
      "execution_count": 35,
      "outputs": [
        {
          "output_type": "stream",
          "name": "stdout",
          "text": [
            "<class 'pandas.core.frame.DataFrame'>\n",
            "RangeIndex: 8 entries, 0 to 7\n",
            "Data columns (total 15 columns):\n",
            " #   Column              Non-Null Count  Dtype \n",
            "---  ------              --------------  ----- \n",
            " 0   NOME                8 non-null      object\n",
            " 1   Data_de_nascimento  8 non-null      object\n",
            " 2   endereco            8 non-null      object\n",
            " 3   cidade              8 non-null      object\n",
            " 4   estado              8 non-null      object\n",
            " 5   nome mae            8 non-null      object\n",
            " 6   nome pai            8 non-null      object\n",
            " 7   casado              7 non-null      object\n",
            " 8   filhos              8 non-null      object\n",
            " 9   esporte_favorito    7 non-null      object\n",
            " 10  fruta favorita      8 non-null      object\n",
            " 11  profissao           8 non-null      object\n",
            " 12  altura              8 non-null      object\n",
            " 13  IDADE               8 non-null      int64 \n",
            " 14  PESO                8 non-null      object\n",
            "dtypes: int64(1), object(14)\n",
            "memory usage: 1.1+ KB\n"
          ]
        }
      ]
    },
    {
      "cell_type": "code",
      "source": [
        "df['altura']"
      ],
      "metadata": {
        "colab": {
          "base_uri": "https://localhost:8080/"
        },
        "id": "1dFT41UDy4E7",
        "outputId": "5ad0eee0-54cf-4684-d15f-5bef8e3353b8"
      },
      "execution_count": 36,
      "outputs": [
        {
          "output_type": "execute_result",
          "data": {
            "text/plain": [
              "0    1,81\n",
              "1    1,75\n",
              "2     1,8\n",
              "3    1.78\n",
              "4    1,76\n",
              "5     1,9\n",
              "6    1,82\n",
              "7    1,83\n",
              "Name: altura, dtype: object"
            ]
          },
          "metadata": {},
          "execution_count": 36
        }
      ]
    },
    {
      "cell_type": "code",
      "source": [
        "df['altura'] = df['altura'].apply(lambda x: x.replace(',','.'))"
      ],
      "metadata": {
        "id": "tVg3GC2Sy9YL"
      },
      "execution_count": 37,
      "outputs": []
    },
    {
      "cell_type": "code",
      "source": [
        "df['altura']"
      ],
      "metadata": {
        "colab": {
          "base_uri": "https://localhost:8080/"
        },
        "id": "ZWg4H0QkzFXj",
        "outputId": "b99afac3-02ad-4fd3-f8cd-7601e7378bf6"
      },
      "execution_count": 38,
      "outputs": [
        {
          "output_type": "execute_result",
          "data": {
            "text/plain": [
              "0    1.81\n",
              "1    1.75\n",
              "2     1.8\n",
              "3    1.78\n",
              "4    1.76\n",
              "5     1.9\n",
              "6    1.82\n",
              "7    1.83\n",
              "Name: altura, dtype: object"
            ]
          },
          "metadata": {},
          "execution_count": 38
        }
      ]
    },
    {
      "cell_type": "code",
      "source": [
        "df['PESO'] = df['PESO'].apply(lambda x: x.replace(',','.'))"
      ],
      "metadata": {
        "id": "jYMFgXwb2BCb"
      },
      "execution_count": 39,
      "outputs": []
    },
    {
      "cell_type": "code",
      "source": [
        "df['PESO']"
      ],
      "metadata": {
        "colab": {
          "base_uri": "https://localhost:8080/"
        },
        "id": "WWaEYC992Q--",
        "outputId": "3baaba9a-e338-48d2-f3e6-1be77a9e4607"
      },
      "execution_count": 40,
      "outputs": [
        {
          "output_type": "execute_result",
          "data": {
            "text/plain": [
              "0      88\n",
              "1    81.5\n",
              "2      92\n",
              "3    79.4\n",
              "4      95\n",
              "5     120\n",
              "6    86.6\n",
              "7      65\n",
              "Name: PESO, dtype: object"
            ]
          },
          "metadata": {},
          "execution_count": 40
        }
      ]
    },
    {
      "cell_type": "markdown",
      "source": [
        "##Alterando o tipo de dado"
      ],
      "metadata": {
        "id": "_0TL9U5w2W-s"
      }
    },
    {
      "cell_type": "code",
      "source": [
        "df['altura'] = df['altura'].astype(float)"
      ],
      "metadata": {
        "id": "VXRb65_A2Y2u"
      },
      "execution_count": 41,
      "outputs": []
    },
    {
      "cell_type": "code",
      "source": [
        "df['altura']"
      ],
      "metadata": {
        "colab": {
          "base_uri": "https://localhost:8080/"
        },
        "id": "phEMUnJz2rm_",
        "outputId": "a7a9b346-80ac-41b8-e62d-1e51bc75339d"
      },
      "execution_count": 42,
      "outputs": [
        {
          "output_type": "execute_result",
          "data": {
            "text/plain": [
              "0    1.81\n",
              "1    1.75\n",
              "2    1.80\n",
              "3    1.78\n",
              "4    1.76\n",
              "5    1.90\n",
              "6    1.82\n",
              "7    1.83\n",
              "Name: altura, dtype: float64"
            ]
          },
          "metadata": {},
          "execution_count": 42
        }
      ]
    },
    {
      "cell_type": "code",
      "source": [
        "df['PESO'] = df['PESO'].astype(float)"
      ],
      "metadata": {
        "id": "RGXd9X4T22uo"
      },
      "execution_count": 43,
      "outputs": []
    },
    {
      "cell_type": "code",
      "source": [
        "df['PESO']"
      ],
      "metadata": {
        "colab": {
          "base_uri": "https://localhost:8080/"
        },
        "id": "pAoshz7f26UX",
        "outputId": "66c78e48-12f1-4966-e807-d7247111a4d3"
      },
      "execution_count": 44,
      "outputs": [
        {
          "output_type": "execute_result",
          "data": {
            "text/plain": [
              "0     88.0\n",
              "1     81.5\n",
              "2     92.0\n",
              "3     79.4\n",
              "4     95.0\n",
              "5    120.0\n",
              "6     86.6\n",
              "7     65.0\n",
              "Name: PESO, dtype: float64"
            ]
          },
          "metadata": {},
          "execution_count": 44
        }
      ]
    },
    {
      "cell_type": "code",
      "source": [
        "df['Data_de_nascimento']"
      ],
      "metadata": {
        "colab": {
          "base_uri": "https://localhost:8080/"
        },
        "id": "QswCwCS-3EZh",
        "outputId": "f8b2f954-66ed-4614-ae16-cc76a934e32a"
      },
      "execution_count": 45,
      "outputs": [
        {
          "output_type": "execute_result",
          "data": {
            "text/plain": [
              "0    08/04/2002\n",
              "1    18/12/1995\n",
              "2    26/12/2000\n",
              "3    04/08/1997\n",
              "4    29/04/2002\n",
              "5    17/09/1999\n",
              "6    08/04/2002\n",
              "7    10/10/2001\n",
              "Name: Data_de_nascimento, dtype: object"
            ]
          },
          "metadata": {},
          "execution_count": 45
        }
      ]
    },
    {
      "cell_type": "code",
      "source": [
        "df['Data_de_nascimento'] = pd.to_datetime(df['Data_de_nascimento'])"
      ],
      "metadata": {
        "id": "-SG2EKQa3JJR"
      },
      "execution_count": 46,
      "outputs": []
    },
    {
      "cell_type": "code",
      "source": [
        "df['Data_de_nascimento']"
      ],
      "metadata": {
        "colab": {
          "base_uri": "https://localhost:8080/"
        },
        "id": "yc8mc7PP3_EL",
        "outputId": "d518a26c-abbf-414b-e647-95c8bb8591e8"
      },
      "execution_count": 47,
      "outputs": [
        {
          "output_type": "execute_result",
          "data": {
            "text/plain": [
              "0   2002-08-04\n",
              "1   1995-12-18\n",
              "2   2000-12-26\n",
              "3   1997-04-08\n",
              "4   2002-04-29\n",
              "5   1999-09-17\n",
              "6   2002-08-04\n",
              "7   2001-10-10\n",
              "Name: Data_de_nascimento, dtype: datetime64[ns]"
            ]
          },
          "metadata": {},
          "execution_count": 47
        }
      ]
    },
    {
      "cell_type": "code",
      "source": [
        "df['ano'] = df['Data_de_nascimento'].dt.year"
      ],
      "metadata": {
        "id": "DLHHFVVi4BlX"
      },
      "execution_count": 48,
      "outputs": []
    },
    {
      "cell_type": "code",
      "source": [
        "df['mes'] = df['Data_de_nascimento'].dt.month"
      ],
      "metadata": {
        "id": "3_DYgLK24Mx1"
      },
      "execution_count": 49,
      "outputs": []
    },
    {
      "cell_type": "code",
      "source": [
        "df['dia'] = df['Data_de_nascimento'].dt.day"
      ],
      "metadata": {
        "id": "VgVySxjA4hIU"
      },
      "execution_count": 50,
      "outputs": []
    },
    {
      "cell_type": "code",
      "source": [
        "df['nome_do_dia'] = df['Data_de_nascimento'].dt.day_name()"
      ],
      "metadata": {
        "id": "OMgEtBi4473r"
      },
      "execution_count": 51,
      "outputs": []
    },
    {
      "cell_type": "code",
      "source": [
        "df"
      ],
      "metadata": {
        "colab": {
          "base_uri": "https://localhost:8080/",
          "height": 711
        },
        "id": "TByZPWjK5CoG",
        "outputId": "c036484f-cd59-4566-d4a3-ecd7c8546604"
      },
      "execution_count": 52,
      "outputs": [
        {
          "output_type": "execute_result",
          "data": {
            "text/plain": [
              "                                  NOME Data_de_nascimento  \\\n",
              "0           Jose Vitor da Silva Santos         2002-08-04   \n",
              "1     Ediney dos anjos Blasques Andres         1995-12-18   \n",
              "2  Pedro Henrique Bergamini Hupalowski         2000-12-26   \n",
              "3                        Thiago Miguel         1997-04-08   \n",
              "4     Jorge Henrique Domingues Freitag         2002-04-29   \n",
              "5                         Kevin Rafael         1999-09-17   \n",
              "6           Joao Pedro da Silva Santos         2002-08-04   \n",
              "7    Eduardo Francisco Mota dos Santos         2001-10-10   \n",
              "\n",
              "                         endereco    cidade  estado  \\\n",
              "0    RUA EURICO GONÇALVES BERBERT   Maringá  Paraná   \n",
              "1        RUA GERMANO BERLOFFA,190  Paiçandu  Paraná   \n",
              "2                    RUA TAÍ 1178   Sarandi  Paraná   \n",
              "3            R. J BONIFACIO N°134   Sarandi  Paraná   \n",
              "4  RUA VEREADOR NELSON ABRÃO, 625   Maringá  Paraná   \n",
              "5             RUA ANTONIO NOVELLI  Paiçandu  Paraná   \n",
              "6     R. EURICO GONÇALVES BERBERT   Maringá  Paraná   \n",
              "7        RUA BRAGANÇA, 345, AP204   Maringá  Paraná   \n",
              "\n",
              "                               nome mae                       nome pai casado  \\\n",
              "0              Maria de Fatima da Silva             Rodrigo dos Santos    Não   \n",
              "1  Vera Lucia dos Anjos Blasques Andres      Eldo Jose Blasques Andres    Não   \n",
              "2     Roberta Juliana Pereira Bergamini       Andre Douglas Hupalowski    Não   \n",
              "3                          Marina Maria                 Devanil Miguel    Não   \n",
              "4                  Rosa Maria Domingues         Jorge Henrique Freitag    NaN   \n",
              "5                       Elaine Vigarini               Tatiano Oliveira    Não   \n",
              "6              Maria de Fatima da Silva             Rodrigo dos Santos    Não   \n",
              "7                  Inês Mota dos Santos  Reinalvo Francisco dos Santos    Não   \n",
              "\n",
              "  filhos              esporte_favorito fruta favorita  \\\n",
              "0    Não                      Basquete        LARANJA   \n",
              "1    Não  Arrancada e corrida de carro        MORGOTE   \n",
              "2    Não                           NaN          MANGA   \n",
              "3    Não                      Ciclismo         GOIABA   \n",
              "4    Não                          Judô          MANGA   \n",
              "5    Não                       Futebol           MAÇÃ   \n",
              "6    Não                       Futebol       MELANCIA   \n",
              "7    Não                      Basquete        LARANJA   \n",
              "\n",
              "                              profissao  altura  IDADE   PESO   ano  mes  dia  \\\n",
              "0                             Estudante    1.81     20   88.0  2002    8    4   \n",
              "1  Assistente Admistrativo e Transporte    1.75     26   81.5  1995   12   18   \n",
              "2                             Estudante    1.80     21   92.0  2000   12   26   \n",
              "3                             Repositor    1.78     25   79.4  1997    4    8   \n",
              "4                             Estudante    1.76     20   95.0  2002    4   29   \n",
              "5                              Vendedor    1.90     23  120.0  1999    9   17   \n",
              "6                             Estudante    1.82     20   86.6  2002    8    4   \n",
              "7                              Vendedor    1.83     21   65.0  2001   10   10   \n",
              "\n",
              "  nome_do_dia  \n",
              "0      Sunday  \n",
              "1      Monday  \n",
              "2     Tuesday  \n",
              "3     Tuesday  \n",
              "4      Monday  \n",
              "5      Friday  \n",
              "6      Sunday  \n",
              "7   Wednesday  "
            ],
            "text/html": [
              "\n",
              "  <div id=\"df-084332af-0f0c-41e7-bff7-fb258f97d9d1\">\n",
              "    <div class=\"colab-df-container\">\n",
              "      <div>\n",
              "<style scoped>\n",
              "    .dataframe tbody tr th:only-of-type {\n",
              "        vertical-align: middle;\n",
              "    }\n",
              "\n",
              "    .dataframe tbody tr th {\n",
              "        vertical-align: top;\n",
              "    }\n",
              "\n",
              "    .dataframe thead th {\n",
              "        text-align: right;\n",
              "    }\n",
              "</style>\n",
              "<table border=\"1\" class=\"dataframe\">\n",
              "  <thead>\n",
              "    <tr style=\"text-align: right;\">\n",
              "      <th></th>\n",
              "      <th>NOME</th>\n",
              "      <th>Data_de_nascimento</th>\n",
              "      <th>endereco</th>\n",
              "      <th>cidade</th>\n",
              "      <th>estado</th>\n",
              "      <th>nome mae</th>\n",
              "      <th>nome pai</th>\n",
              "      <th>casado</th>\n",
              "      <th>filhos</th>\n",
              "      <th>esporte_favorito</th>\n",
              "      <th>fruta favorita</th>\n",
              "      <th>profissao</th>\n",
              "      <th>altura</th>\n",
              "      <th>IDADE</th>\n",
              "      <th>PESO</th>\n",
              "      <th>ano</th>\n",
              "      <th>mes</th>\n",
              "      <th>dia</th>\n",
              "      <th>nome_do_dia</th>\n",
              "    </tr>\n",
              "  </thead>\n",
              "  <tbody>\n",
              "    <tr>\n",
              "      <th>0</th>\n",
              "      <td>Jose Vitor da Silva Santos</td>\n",
              "      <td>2002-08-04</td>\n",
              "      <td>RUA EURICO GONÇALVES BERBERT</td>\n",
              "      <td>Maringá</td>\n",
              "      <td>Paraná</td>\n",
              "      <td>Maria de Fatima da Silva</td>\n",
              "      <td>Rodrigo dos Santos</td>\n",
              "      <td>Não</td>\n",
              "      <td>Não</td>\n",
              "      <td>Basquete</td>\n",
              "      <td>LARANJA</td>\n",
              "      <td>Estudante</td>\n",
              "      <td>1.81</td>\n",
              "      <td>20</td>\n",
              "      <td>88.0</td>\n",
              "      <td>2002</td>\n",
              "      <td>8</td>\n",
              "      <td>4</td>\n",
              "      <td>Sunday</td>\n",
              "    </tr>\n",
              "    <tr>\n",
              "      <th>1</th>\n",
              "      <td>Ediney dos anjos Blasques Andres</td>\n",
              "      <td>1995-12-18</td>\n",
              "      <td>RUA GERMANO BERLOFFA,190</td>\n",
              "      <td>Paiçandu</td>\n",
              "      <td>Paraná</td>\n",
              "      <td>Vera Lucia dos Anjos Blasques Andres</td>\n",
              "      <td>Eldo Jose Blasques Andres</td>\n",
              "      <td>Não</td>\n",
              "      <td>Não</td>\n",
              "      <td>Arrancada e corrida de carro</td>\n",
              "      <td>MORGOTE</td>\n",
              "      <td>Assistente Admistrativo e Transporte</td>\n",
              "      <td>1.75</td>\n",
              "      <td>26</td>\n",
              "      <td>81.5</td>\n",
              "      <td>1995</td>\n",
              "      <td>12</td>\n",
              "      <td>18</td>\n",
              "      <td>Monday</td>\n",
              "    </tr>\n",
              "    <tr>\n",
              "      <th>2</th>\n",
              "      <td>Pedro Henrique Bergamini Hupalowski</td>\n",
              "      <td>2000-12-26</td>\n",
              "      <td>RUA TAÍ 1178</td>\n",
              "      <td>Sarandi</td>\n",
              "      <td>Paraná</td>\n",
              "      <td>Roberta Juliana Pereira Bergamini</td>\n",
              "      <td>Andre Douglas Hupalowski</td>\n",
              "      <td>Não</td>\n",
              "      <td>Não</td>\n",
              "      <td>NaN</td>\n",
              "      <td>MANGA</td>\n",
              "      <td>Estudante</td>\n",
              "      <td>1.80</td>\n",
              "      <td>21</td>\n",
              "      <td>92.0</td>\n",
              "      <td>2000</td>\n",
              "      <td>12</td>\n",
              "      <td>26</td>\n",
              "      <td>Tuesday</td>\n",
              "    </tr>\n",
              "    <tr>\n",
              "      <th>3</th>\n",
              "      <td>Thiago Miguel</td>\n",
              "      <td>1997-04-08</td>\n",
              "      <td>R. J BONIFACIO N°134</td>\n",
              "      <td>Sarandi</td>\n",
              "      <td>Paraná</td>\n",
              "      <td>Marina Maria</td>\n",
              "      <td>Devanil Miguel</td>\n",
              "      <td>Não</td>\n",
              "      <td>Não</td>\n",
              "      <td>Ciclismo</td>\n",
              "      <td>GOIABA</td>\n",
              "      <td>Repositor</td>\n",
              "      <td>1.78</td>\n",
              "      <td>25</td>\n",
              "      <td>79.4</td>\n",
              "      <td>1997</td>\n",
              "      <td>4</td>\n",
              "      <td>8</td>\n",
              "      <td>Tuesday</td>\n",
              "    </tr>\n",
              "    <tr>\n",
              "      <th>4</th>\n",
              "      <td>Jorge Henrique Domingues Freitag</td>\n",
              "      <td>2002-04-29</td>\n",
              "      <td>RUA VEREADOR NELSON ABRÃO, 625</td>\n",
              "      <td>Maringá</td>\n",
              "      <td>Paraná</td>\n",
              "      <td>Rosa Maria Domingues</td>\n",
              "      <td>Jorge Henrique Freitag</td>\n",
              "      <td>NaN</td>\n",
              "      <td>Não</td>\n",
              "      <td>Judô</td>\n",
              "      <td>MANGA</td>\n",
              "      <td>Estudante</td>\n",
              "      <td>1.76</td>\n",
              "      <td>20</td>\n",
              "      <td>95.0</td>\n",
              "      <td>2002</td>\n",
              "      <td>4</td>\n",
              "      <td>29</td>\n",
              "      <td>Monday</td>\n",
              "    </tr>\n",
              "    <tr>\n",
              "      <th>5</th>\n",
              "      <td>Kevin Rafael</td>\n",
              "      <td>1999-09-17</td>\n",
              "      <td>RUA ANTONIO NOVELLI</td>\n",
              "      <td>Paiçandu</td>\n",
              "      <td>Paraná</td>\n",
              "      <td>Elaine Vigarini</td>\n",
              "      <td>Tatiano Oliveira</td>\n",
              "      <td>Não</td>\n",
              "      <td>Não</td>\n",
              "      <td>Futebol</td>\n",
              "      <td>MAÇÃ</td>\n",
              "      <td>Vendedor</td>\n",
              "      <td>1.90</td>\n",
              "      <td>23</td>\n",
              "      <td>120.0</td>\n",
              "      <td>1999</td>\n",
              "      <td>9</td>\n",
              "      <td>17</td>\n",
              "      <td>Friday</td>\n",
              "    </tr>\n",
              "    <tr>\n",
              "      <th>6</th>\n",
              "      <td>Joao Pedro da Silva Santos</td>\n",
              "      <td>2002-08-04</td>\n",
              "      <td>R. EURICO GONÇALVES BERBERT</td>\n",
              "      <td>Maringá</td>\n",
              "      <td>Paraná</td>\n",
              "      <td>Maria de Fatima da Silva</td>\n",
              "      <td>Rodrigo dos Santos</td>\n",
              "      <td>Não</td>\n",
              "      <td>Não</td>\n",
              "      <td>Futebol</td>\n",
              "      <td>MELANCIA</td>\n",
              "      <td>Estudante</td>\n",
              "      <td>1.82</td>\n",
              "      <td>20</td>\n",
              "      <td>86.6</td>\n",
              "      <td>2002</td>\n",
              "      <td>8</td>\n",
              "      <td>4</td>\n",
              "      <td>Sunday</td>\n",
              "    </tr>\n",
              "    <tr>\n",
              "      <th>7</th>\n",
              "      <td>Eduardo Francisco Mota dos Santos</td>\n",
              "      <td>2001-10-10</td>\n",
              "      <td>RUA BRAGANÇA, 345, AP204</td>\n",
              "      <td>Maringá</td>\n",
              "      <td>Paraná</td>\n",
              "      <td>Inês Mota dos Santos</td>\n",
              "      <td>Reinalvo Francisco dos Santos</td>\n",
              "      <td>Não</td>\n",
              "      <td>Não</td>\n",
              "      <td>Basquete</td>\n",
              "      <td>LARANJA</td>\n",
              "      <td>Vendedor</td>\n",
              "      <td>1.83</td>\n",
              "      <td>21</td>\n",
              "      <td>65.0</td>\n",
              "      <td>2001</td>\n",
              "      <td>10</td>\n",
              "      <td>10</td>\n",
              "      <td>Wednesday</td>\n",
              "    </tr>\n",
              "  </tbody>\n",
              "</table>\n",
              "</div>\n",
              "      <button class=\"colab-df-convert\" onclick=\"convertToInteractive('df-084332af-0f0c-41e7-bff7-fb258f97d9d1')\"\n",
              "              title=\"Convert this dataframe to an interactive table.\"\n",
              "              style=\"display:none;\">\n",
              "        \n",
              "  <svg xmlns=\"http://www.w3.org/2000/svg\" height=\"24px\"viewBox=\"0 0 24 24\"\n",
              "       width=\"24px\">\n",
              "    <path d=\"M0 0h24v24H0V0z\" fill=\"none\"/>\n",
              "    <path d=\"M18.56 5.44l.94 2.06.94-2.06 2.06-.94-2.06-.94-.94-2.06-.94 2.06-2.06.94zm-11 1L8.5 8.5l.94-2.06 2.06-.94-2.06-.94L8.5 2.5l-.94 2.06-2.06.94zm10 10l.94 2.06.94-2.06 2.06-.94-2.06-.94-.94-2.06-.94 2.06-2.06.94z\"/><path d=\"M17.41 7.96l-1.37-1.37c-.4-.4-.92-.59-1.43-.59-.52 0-1.04.2-1.43.59L10.3 9.45l-7.72 7.72c-.78.78-.78 2.05 0 2.83L4 21.41c.39.39.9.59 1.41.59.51 0 1.02-.2 1.41-.59l7.78-7.78 2.81-2.81c.8-.78.8-2.07 0-2.86zM5.41 20L4 18.59l7.72-7.72 1.47 1.35L5.41 20z\"/>\n",
              "  </svg>\n",
              "      </button>\n",
              "      \n",
              "  <style>\n",
              "    .colab-df-container {\n",
              "      display:flex;\n",
              "      flex-wrap:wrap;\n",
              "      gap: 12px;\n",
              "    }\n",
              "\n",
              "    .colab-df-convert {\n",
              "      background-color: #E8F0FE;\n",
              "      border: none;\n",
              "      border-radius: 50%;\n",
              "      cursor: pointer;\n",
              "      display: none;\n",
              "      fill: #1967D2;\n",
              "      height: 32px;\n",
              "      padding: 0 0 0 0;\n",
              "      width: 32px;\n",
              "    }\n",
              "\n",
              "    .colab-df-convert:hover {\n",
              "      background-color: #E2EBFA;\n",
              "      box-shadow: 0px 1px 2px rgba(60, 64, 67, 0.3), 0px 1px 3px 1px rgba(60, 64, 67, 0.15);\n",
              "      fill: #174EA6;\n",
              "    }\n",
              "\n",
              "    [theme=dark] .colab-df-convert {\n",
              "      background-color: #3B4455;\n",
              "      fill: #D2E3FC;\n",
              "    }\n",
              "\n",
              "    [theme=dark] .colab-df-convert:hover {\n",
              "      background-color: #434B5C;\n",
              "      box-shadow: 0px 1px 3px 1px rgba(0, 0, 0, 0.15);\n",
              "      filter: drop-shadow(0px 1px 2px rgba(0, 0, 0, 0.3));\n",
              "      fill: #FFFFFF;\n",
              "    }\n",
              "  </style>\n",
              "\n",
              "      <script>\n",
              "        const buttonEl =\n",
              "          document.querySelector('#df-084332af-0f0c-41e7-bff7-fb258f97d9d1 button.colab-df-convert');\n",
              "        buttonEl.style.display =\n",
              "          google.colab.kernel.accessAllowed ? 'block' : 'none';\n",
              "\n",
              "        async function convertToInteractive(key) {\n",
              "          const element = document.querySelector('#df-084332af-0f0c-41e7-bff7-fb258f97d9d1');\n",
              "          const dataTable =\n",
              "            await google.colab.kernel.invokeFunction('convertToInteractive',\n",
              "                                                     [key], {});\n",
              "          if (!dataTable) return;\n",
              "\n",
              "          const docLinkHtml = 'Like what you see? Visit the ' +\n",
              "            '<a target=\"_blank\" href=https://colab.research.google.com/notebooks/data_table.ipynb>data table notebook</a>'\n",
              "            + ' to learn more about interactive tables.';\n",
              "          element.innerHTML = '';\n",
              "          dataTable['output_type'] = 'display_data';\n",
              "          await google.colab.output.renderOutput(dataTable, element);\n",
              "          const docLink = document.createElement('div');\n",
              "          docLink.innerHTML = docLinkHtml;\n",
              "          element.appendChild(docLink);\n",
              "        }\n",
              "      </script>\n",
              "    </div>\n",
              "  </div>\n",
              "  "
            ]
          },
          "metadata": {},
          "execution_count": 52
        }
      ]
    },
    {
      "cell_type": "markdown",
      "source": [
        "##Salvando o arquivo"
      ],
      "metadata": {
        "id": "-S57v0u46-8_"
      }
    },
    {
      "cell_type": "code",
      "source": [
        "df.to_excel('df_tratado_parte1.xlsx')"
      ],
      "metadata": {
        "id": "CT5WfqQm7Bzk"
      },
      "execution_count": 53,
      "outputs": []
    },
    {
      "cell_type": "markdown",
      "source": [
        "###Tratamento de arquivo"
      ],
      "metadata": {
        "id": "W6U4o0i77_ff"
      }
    },
    {
      "cell_type": "markdown",
      "source": [],
      "metadata": {
        "id": "Tn_lw7Nz8H-H"
      }
    },
    {
      "cell_type": "code",
      "source": [
        "df['MÃE'], df['MÃE_SOBRENOME'] = df['nome mae'].str.split(n=1, expand = True)"
      ],
      "metadata": {
        "id": "7z84luNz8maM"
      },
      "execution_count": 54,
      "outputs": []
    },
    {
      "cell_type": "code",
      "source": [
        "df['nome mae'].str.split(' ', n=1, expand = True)"
      ],
      "metadata": {
        "id": "Kojsmkkf87LJ",
        "outputId": "53f7fe94-18cc-40b7-a652-29578c1da972",
        "colab": {
          "base_uri": "https://localhost:8080/",
          "height": 300
        }
      },
      "execution_count": 55,
      "outputs": [
        {
          "output_type": "execute_result",
          "data": {
            "text/plain": [
              "         0                                1\n",
              "0    Maria               de Fatima da Silva\n",
              "1     Vera  Lucia dos Anjos Blasques Andres\n",
              "2  Roberta        Juliana Pereira Bergamini\n",
              "3   Marina                            Maria\n",
              "4     Rosa                  Maria Domingues\n",
              "5   Elaine                         Vigarini\n",
              "6    Maria               de Fatima da Silva\n",
              "7     Inês                  Mota dos Santos"
            ],
            "text/html": [
              "\n",
              "  <div id=\"df-28ae228a-3558-4a3f-a5c8-2d72047fce4c\">\n",
              "    <div class=\"colab-df-container\">\n",
              "      <div>\n",
              "<style scoped>\n",
              "    .dataframe tbody tr th:only-of-type {\n",
              "        vertical-align: middle;\n",
              "    }\n",
              "\n",
              "    .dataframe tbody tr th {\n",
              "        vertical-align: top;\n",
              "    }\n",
              "\n",
              "    .dataframe thead th {\n",
              "        text-align: right;\n",
              "    }\n",
              "</style>\n",
              "<table border=\"1\" class=\"dataframe\">\n",
              "  <thead>\n",
              "    <tr style=\"text-align: right;\">\n",
              "      <th></th>\n",
              "      <th>0</th>\n",
              "      <th>1</th>\n",
              "    </tr>\n",
              "  </thead>\n",
              "  <tbody>\n",
              "    <tr>\n",
              "      <th>0</th>\n",
              "      <td>Maria</td>\n",
              "      <td>de Fatima da Silva</td>\n",
              "    </tr>\n",
              "    <tr>\n",
              "      <th>1</th>\n",
              "      <td>Vera</td>\n",
              "      <td>Lucia dos Anjos Blasques Andres</td>\n",
              "    </tr>\n",
              "    <tr>\n",
              "      <th>2</th>\n",
              "      <td>Roberta</td>\n",
              "      <td>Juliana Pereira Bergamini</td>\n",
              "    </tr>\n",
              "    <tr>\n",
              "      <th>3</th>\n",
              "      <td>Marina</td>\n",
              "      <td>Maria</td>\n",
              "    </tr>\n",
              "    <tr>\n",
              "      <th>4</th>\n",
              "      <td>Rosa</td>\n",
              "      <td>Maria Domingues</td>\n",
              "    </tr>\n",
              "    <tr>\n",
              "      <th>5</th>\n",
              "      <td>Elaine</td>\n",
              "      <td>Vigarini</td>\n",
              "    </tr>\n",
              "    <tr>\n",
              "      <th>6</th>\n",
              "      <td>Maria</td>\n",
              "      <td>de Fatima da Silva</td>\n",
              "    </tr>\n",
              "    <tr>\n",
              "      <th>7</th>\n",
              "      <td>Inês</td>\n",
              "      <td>Mota dos Santos</td>\n",
              "    </tr>\n",
              "  </tbody>\n",
              "</table>\n",
              "</div>\n",
              "      <button class=\"colab-df-convert\" onclick=\"convertToInteractive('df-28ae228a-3558-4a3f-a5c8-2d72047fce4c')\"\n",
              "              title=\"Convert this dataframe to an interactive table.\"\n",
              "              style=\"display:none;\">\n",
              "        \n",
              "  <svg xmlns=\"http://www.w3.org/2000/svg\" height=\"24px\"viewBox=\"0 0 24 24\"\n",
              "       width=\"24px\">\n",
              "    <path d=\"M0 0h24v24H0V0z\" fill=\"none\"/>\n",
              "    <path d=\"M18.56 5.44l.94 2.06.94-2.06 2.06-.94-2.06-.94-.94-2.06-.94 2.06-2.06.94zm-11 1L8.5 8.5l.94-2.06 2.06-.94-2.06-.94L8.5 2.5l-.94 2.06-2.06.94zm10 10l.94 2.06.94-2.06 2.06-.94-2.06-.94-.94-2.06-.94 2.06-2.06.94z\"/><path d=\"M17.41 7.96l-1.37-1.37c-.4-.4-.92-.59-1.43-.59-.52 0-1.04.2-1.43.59L10.3 9.45l-7.72 7.72c-.78.78-.78 2.05 0 2.83L4 21.41c.39.39.9.59 1.41.59.51 0 1.02-.2 1.41-.59l7.78-7.78 2.81-2.81c.8-.78.8-2.07 0-2.86zM5.41 20L4 18.59l7.72-7.72 1.47 1.35L5.41 20z\"/>\n",
              "  </svg>\n",
              "      </button>\n",
              "      \n",
              "  <style>\n",
              "    .colab-df-container {\n",
              "      display:flex;\n",
              "      flex-wrap:wrap;\n",
              "      gap: 12px;\n",
              "    }\n",
              "\n",
              "    .colab-df-convert {\n",
              "      background-color: #E8F0FE;\n",
              "      border: none;\n",
              "      border-radius: 50%;\n",
              "      cursor: pointer;\n",
              "      display: none;\n",
              "      fill: #1967D2;\n",
              "      height: 32px;\n",
              "      padding: 0 0 0 0;\n",
              "      width: 32px;\n",
              "    }\n",
              "\n",
              "    .colab-df-convert:hover {\n",
              "      background-color: #E2EBFA;\n",
              "      box-shadow: 0px 1px 2px rgba(60, 64, 67, 0.3), 0px 1px 3px 1px rgba(60, 64, 67, 0.15);\n",
              "      fill: #174EA6;\n",
              "    }\n",
              "\n",
              "    [theme=dark] .colab-df-convert {\n",
              "      background-color: #3B4455;\n",
              "      fill: #D2E3FC;\n",
              "    }\n",
              "\n",
              "    [theme=dark] .colab-df-convert:hover {\n",
              "      background-color: #434B5C;\n",
              "      box-shadow: 0px 1px 3px 1px rgba(0, 0, 0, 0.15);\n",
              "      filter: drop-shadow(0px 1px 2px rgba(0, 0, 0, 0.3));\n",
              "      fill: #FFFFFF;\n",
              "    }\n",
              "  </style>\n",
              "\n",
              "      <script>\n",
              "        const buttonEl =\n",
              "          document.querySelector('#df-28ae228a-3558-4a3f-a5c8-2d72047fce4c button.colab-df-convert');\n",
              "        buttonEl.style.display =\n",
              "          google.colab.kernel.accessAllowed ? 'block' : 'none';\n",
              "\n",
              "        async function convertToInteractive(key) {\n",
              "          const element = document.querySelector('#df-28ae228a-3558-4a3f-a5c8-2d72047fce4c');\n",
              "          const dataTable =\n",
              "            await google.colab.kernel.invokeFunction('convertToInteractive',\n",
              "                                                     [key], {});\n",
              "          if (!dataTable) return;\n",
              "\n",
              "          const docLinkHtml = 'Like what you see? Visit the ' +\n",
              "            '<a target=\"_blank\" href=https://colab.research.google.com/notebooks/data_table.ipynb>data table notebook</a>'\n",
              "            + ' to learn more about interactive tables.';\n",
              "          element.innerHTML = '';\n",
              "          dataTable['output_type'] = 'display_data';\n",
              "          await google.colab.output.renderOutput(dataTable, element);\n",
              "          const docLink = document.createElement('div');\n",
              "          docLink.innerHTML = docLinkHtml;\n",
              "          element.appendChild(docLink);\n",
              "        }\n",
              "      </script>\n",
              "    </div>\n",
              "  </div>\n",
              "  "
            ]
          },
          "metadata": {},
          "execution_count": 55
        }
      ]
    },
    {
      "cell_type": "code",
      "source": [
        "df"
      ],
      "metadata": {
        "id": "qm9wFkPv-PPf",
        "outputId": "200bd8a5-c656-4cad-9a6a-4b2ba5b94c7c",
        "colab": {
          "base_uri": "https://localhost:8080/",
          "height": 723
        }
      },
      "execution_count": 56,
      "outputs": [
        {
          "output_type": "execute_result",
          "data": {
            "text/plain": [
              "                                  NOME Data_de_nascimento  \\\n",
              "0           Jose Vitor da Silva Santos         2002-08-04   \n",
              "1     Ediney dos anjos Blasques Andres         1995-12-18   \n",
              "2  Pedro Henrique Bergamini Hupalowski         2000-12-26   \n",
              "3                        Thiago Miguel         1997-04-08   \n",
              "4     Jorge Henrique Domingues Freitag         2002-04-29   \n",
              "5                         Kevin Rafael         1999-09-17   \n",
              "6           Joao Pedro da Silva Santos         2002-08-04   \n",
              "7    Eduardo Francisco Mota dos Santos         2001-10-10   \n",
              "\n",
              "                         endereco    cidade  estado  \\\n",
              "0    RUA EURICO GONÇALVES BERBERT   Maringá  Paraná   \n",
              "1        RUA GERMANO BERLOFFA,190  Paiçandu  Paraná   \n",
              "2                    RUA TAÍ 1178   Sarandi  Paraná   \n",
              "3            R. J BONIFACIO N°134   Sarandi  Paraná   \n",
              "4  RUA VEREADOR NELSON ABRÃO, 625   Maringá  Paraná   \n",
              "5             RUA ANTONIO NOVELLI  Paiçandu  Paraná   \n",
              "6     R. EURICO GONÇALVES BERBERT   Maringá  Paraná   \n",
              "7        RUA BRAGANÇA, 345, AP204   Maringá  Paraná   \n",
              "\n",
              "                               nome mae                       nome pai casado  \\\n",
              "0              Maria de Fatima da Silva             Rodrigo dos Santos    Não   \n",
              "1  Vera Lucia dos Anjos Blasques Andres      Eldo Jose Blasques Andres    Não   \n",
              "2     Roberta Juliana Pereira Bergamini       Andre Douglas Hupalowski    Não   \n",
              "3                          Marina Maria                 Devanil Miguel    Não   \n",
              "4                  Rosa Maria Domingues         Jorge Henrique Freitag    NaN   \n",
              "5                       Elaine Vigarini               Tatiano Oliveira    Não   \n",
              "6              Maria de Fatima da Silva             Rodrigo dos Santos    Não   \n",
              "7                  Inês Mota dos Santos  Reinalvo Francisco dos Santos    Não   \n",
              "\n",
              "  filhos              esporte_favorito  ...  \\\n",
              "0    Não                      Basquete  ...   \n",
              "1    Não  Arrancada e corrida de carro  ...   \n",
              "2    Não                           NaN  ...   \n",
              "3    Não                      Ciclismo  ...   \n",
              "4    Não                          Judô  ...   \n",
              "5    Não                       Futebol  ...   \n",
              "6    Não                       Futebol  ...   \n",
              "7    Não                      Basquete  ...   \n",
              "\n",
              "                              profissao altura  IDADE   PESO   ano  mes  dia  \\\n",
              "0                             Estudante   1.81     20   88.0  2002    8    4   \n",
              "1  Assistente Admistrativo e Transporte   1.75     26   81.5  1995   12   18   \n",
              "2                             Estudante   1.80     21   92.0  2000   12   26   \n",
              "3                             Repositor   1.78     25   79.4  1997    4    8   \n",
              "4                             Estudante   1.76     20   95.0  2002    4   29   \n",
              "5                              Vendedor   1.90     23  120.0  1999    9   17   \n",
              "6                             Estudante   1.82     20   86.6  2002    8    4   \n",
              "7                              Vendedor   1.83     21   65.0  2001   10   10   \n",
              "\n",
              "   nome_do_dia MÃE  MÃE_SOBRENOME  \n",
              "0       Sunday   0              1  \n",
              "1       Monday   0              1  \n",
              "2      Tuesday   0              1  \n",
              "3      Tuesday   0              1  \n",
              "4       Monday   0              1  \n",
              "5       Friday   0              1  \n",
              "6       Sunday   0              1  \n",
              "7    Wednesday   0              1  \n",
              "\n",
              "[8 rows x 21 columns]"
            ],
            "text/html": [
              "\n",
              "  <div id=\"df-31e91d9e-8a7b-438e-8142-8bc925827524\">\n",
              "    <div class=\"colab-df-container\">\n",
              "      <div>\n",
              "<style scoped>\n",
              "    .dataframe tbody tr th:only-of-type {\n",
              "        vertical-align: middle;\n",
              "    }\n",
              "\n",
              "    .dataframe tbody tr th {\n",
              "        vertical-align: top;\n",
              "    }\n",
              "\n",
              "    .dataframe thead th {\n",
              "        text-align: right;\n",
              "    }\n",
              "</style>\n",
              "<table border=\"1\" class=\"dataframe\">\n",
              "  <thead>\n",
              "    <tr style=\"text-align: right;\">\n",
              "      <th></th>\n",
              "      <th>NOME</th>\n",
              "      <th>Data_de_nascimento</th>\n",
              "      <th>endereco</th>\n",
              "      <th>cidade</th>\n",
              "      <th>estado</th>\n",
              "      <th>nome mae</th>\n",
              "      <th>nome pai</th>\n",
              "      <th>casado</th>\n",
              "      <th>filhos</th>\n",
              "      <th>esporte_favorito</th>\n",
              "      <th>...</th>\n",
              "      <th>profissao</th>\n",
              "      <th>altura</th>\n",
              "      <th>IDADE</th>\n",
              "      <th>PESO</th>\n",
              "      <th>ano</th>\n",
              "      <th>mes</th>\n",
              "      <th>dia</th>\n",
              "      <th>nome_do_dia</th>\n",
              "      <th>MÃE</th>\n",
              "      <th>MÃE_SOBRENOME</th>\n",
              "    </tr>\n",
              "  </thead>\n",
              "  <tbody>\n",
              "    <tr>\n",
              "      <th>0</th>\n",
              "      <td>Jose Vitor da Silva Santos</td>\n",
              "      <td>2002-08-04</td>\n",
              "      <td>RUA EURICO GONÇALVES BERBERT</td>\n",
              "      <td>Maringá</td>\n",
              "      <td>Paraná</td>\n",
              "      <td>Maria de Fatima da Silva</td>\n",
              "      <td>Rodrigo dos Santos</td>\n",
              "      <td>Não</td>\n",
              "      <td>Não</td>\n",
              "      <td>Basquete</td>\n",
              "      <td>...</td>\n",
              "      <td>Estudante</td>\n",
              "      <td>1.81</td>\n",
              "      <td>20</td>\n",
              "      <td>88.0</td>\n",
              "      <td>2002</td>\n",
              "      <td>8</td>\n",
              "      <td>4</td>\n",
              "      <td>Sunday</td>\n",
              "      <td>0</td>\n",
              "      <td>1</td>\n",
              "    </tr>\n",
              "    <tr>\n",
              "      <th>1</th>\n",
              "      <td>Ediney dos anjos Blasques Andres</td>\n",
              "      <td>1995-12-18</td>\n",
              "      <td>RUA GERMANO BERLOFFA,190</td>\n",
              "      <td>Paiçandu</td>\n",
              "      <td>Paraná</td>\n",
              "      <td>Vera Lucia dos Anjos Blasques Andres</td>\n",
              "      <td>Eldo Jose Blasques Andres</td>\n",
              "      <td>Não</td>\n",
              "      <td>Não</td>\n",
              "      <td>Arrancada e corrida de carro</td>\n",
              "      <td>...</td>\n",
              "      <td>Assistente Admistrativo e Transporte</td>\n",
              "      <td>1.75</td>\n",
              "      <td>26</td>\n",
              "      <td>81.5</td>\n",
              "      <td>1995</td>\n",
              "      <td>12</td>\n",
              "      <td>18</td>\n",
              "      <td>Monday</td>\n",
              "      <td>0</td>\n",
              "      <td>1</td>\n",
              "    </tr>\n",
              "    <tr>\n",
              "      <th>2</th>\n",
              "      <td>Pedro Henrique Bergamini Hupalowski</td>\n",
              "      <td>2000-12-26</td>\n",
              "      <td>RUA TAÍ 1178</td>\n",
              "      <td>Sarandi</td>\n",
              "      <td>Paraná</td>\n",
              "      <td>Roberta Juliana Pereira Bergamini</td>\n",
              "      <td>Andre Douglas Hupalowski</td>\n",
              "      <td>Não</td>\n",
              "      <td>Não</td>\n",
              "      <td>NaN</td>\n",
              "      <td>...</td>\n",
              "      <td>Estudante</td>\n",
              "      <td>1.80</td>\n",
              "      <td>21</td>\n",
              "      <td>92.0</td>\n",
              "      <td>2000</td>\n",
              "      <td>12</td>\n",
              "      <td>26</td>\n",
              "      <td>Tuesday</td>\n",
              "      <td>0</td>\n",
              "      <td>1</td>\n",
              "    </tr>\n",
              "    <tr>\n",
              "      <th>3</th>\n",
              "      <td>Thiago Miguel</td>\n",
              "      <td>1997-04-08</td>\n",
              "      <td>R. J BONIFACIO N°134</td>\n",
              "      <td>Sarandi</td>\n",
              "      <td>Paraná</td>\n",
              "      <td>Marina Maria</td>\n",
              "      <td>Devanil Miguel</td>\n",
              "      <td>Não</td>\n",
              "      <td>Não</td>\n",
              "      <td>Ciclismo</td>\n",
              "      <td>...</td>\n",
              "      <td>Repositor</td>\n",
              "      <td>1.78</td>\n",
              "      <td>25</td>\n",
              "      <td>79.4</td>\n",
              "      <td>1997</td>\n",
              "      <td>4</td>\n",
              "      <td>8</td>\n",
              "      <td>Tuesday</td>\n",
              "      <td>0</td>\n",
              "      <td>1</td>\n",
              "    </tr>\n",
              "    <tr>\n",
              "      <th>4</th>\n",
              "      <td>Jorge Henrique Domingues Freitag</td>\n",
              "      <td>2002-04-29</td>\n",
              "      <td>RUA VEREADOR NELSON ABRÃO, 625</td>\n",
              "      <td>Maringá</td>\n",
              "      <td>Paraná</td>\n",
              "      <td>Rosa Maria Domingues</td>\n",
              "      <td>Jorge Henrique Freitag</td>\n",
              "      <td>NaN</td>\n",
              "      <td>Não</td>\n",
              "      <td>Judô</td>\n",
              "      <td>...</td>\n",
              "      <td>Estudante</td>\n",
              "      <td>1.76</td>\n",
              "      <td>20</td>\n",
              "      <td>95.0</td>\n",
              "      <td>2002</td>\n",
              "      <td>4</td>\n",
              "      <td>29</td>\n",
              "      <td>Monday</td>\n",
              "      <td>0</td>\n",
              "      <td>1</td>\n",
              "    </tr>\n",
              "    <tr>\n",
              "      <th>5</th>\n",
              "      <td>Kevin Rafael</td>\n",
              "      <td>1999-09-17</td>\n",
              "      <td>RUA ANTONIO NOVELLI</td>\n",
              "      <td>Paiçandu</td>\n",
              "      <td>Paraná</td>\n",
              "      <td>Elaine Vigarini</td>\n",
              "      <td>Tatiano Oliveira</td>\n",
              "      <td>Não</td>\n",
              "      <td>Não</td>\n",
              "      <td>Futebol</td>\n",
              "      <td>...</td>\n",
              "      <td>Vendedor</td>\n",
              "      <td>1.90</td>\n",
              "      <td>23</td>\n",
              "      <td>120.0</td>\n",
              "      <td>1999</td>\n",
              "      <td>9</td>\n",
              "      <td>17</td>\n",
              "      <td>Friday</td>\n",
              "      <td>0</td>\n",
              "      <td>1</td>\n",
              "    </tr>\n",
              "    <tr>\n",
              "      <th>6</th>\n",
              "      <td>Joao Pedro da Silva Santos</td>\n",
              "      <td>2002-08-04</td>\n",
              "      <td>R. EURICO GONÇALVES BERBERT</td>\n",
              "      <td>Maringá</td>\n",
              "      <td>Paraná</td>\n",
              "      <td>Maria de Fatima da Silva</td>\n",
              "      <td>Rodrigo dos Santos</td>\n",
              "      <td>Não</td>\n",
              "      <td>Não</td>\n",
              "      <td>Futebol</td>\n",
              "      <td>...</td>\n",
              "      <td>Estudante</td>\n",
              "      <td>1.82</td>\n",
              "      <td>20</td>\n",
              "      <td>86.6</td>\n",
              "      <td>2002</td>\n",
              "      <td>8</td>\n",
              "      <td>4</td>\n",
              "      <td>Sunday</td>\n",
              "      <td>0</td>\n",
              "      <td>1</td>\n",
              "    </tr>\n",
              "    <tr>\n",
              "      <th>7</th>\n",
              "      <td>Eduardo Francisco Mota dos Santos</td>\n",
              "      <td>2001-10-10</td>\n",
              "      <td>RUA BRAGANÇA, 345, AP204</td>\n",
              "      <td>Maringá</td>\n",
              "      <td>Paraná</td>\n",
              "      <td>Inês Mota dos Santos</td>\n",
              "      <td>Reinalvo Francisco dos Santos</td>\n",
              "      <td>Não</td>\n",
              "      <td>Não</td>\n",
              "      <td>Basquete</td>\n",
              "      <td>...</td>\n",
              "      <td>Vendedor</td>\n",
              "      <td>1.83</td>\n",
              "      <td>21</td>\n",
              "      <td>65.0</td>\n",
              "      <td>2001</td>\n",
              "      <td>10</td>\n",
              "      <td>10</td>\n",
              "      <td>Wednesday</td>\n",
              "      <td>0</td>\n",
              "      <td>1</td>\n",
              "    </tr>\n",
              "  </tbody>\n",
              "</table>\n",
              "<p>8 rows × 21 columns</p>\n",
              "</div>\n",
              "      <button class=\"colab-df-convert\" onclick=\"convertToInteractive('df-31e91d9e-8a7b-438e-8142-8bc925827524')\"\n",
              "              title=\"Convert this dataframe to an interactive table.\"\n",
              "              style=\"display:none;\">\n",
              "        \n",
              "  <svg xmlns=\"http://www.w3.org/2000/svg\" height=\"24px\"viewBox=\"0 0 24 24\"\n",
              "       width=\"24px\">\n",
              "    <path d=\"M0 0h24v24H0V0z\" fill=\"none\"/>\n",
              "    <path d=\"M18.56 5.44l.94 2.06.94-2.06 2.06-.94-2.06-.94-.94-2.06-.94 2.06-2.06.94zm-11 1L8.5 8.5l.94-2.06 2.06-.94-2.06-.94L8.5 2.5l-.94 2.06-2.06.94zm10 10l.94 2.06.94-2.06 2.06-.94-2.06-.94-.94-2.06-.94 2.06-2.06.94z\"/><path d=\"M17.41 7.96l-1.37-1.37c-.4-.4-.92-.59-1.43-.59-.52 0-1.04.2-1.43.59L10.3 9.45l-7.72 7.72c-.78.78-.78 2.05 0 2.83L4 21.41c.39.39.9.59 1.41.59.51 0 1.02-.2 1.41-.59l7.78-7.78 2.81-2.81c.8-.78.8-2.07 0-2.86zM5.41 20L4 18.59l7.72-7.72 1.47 1.35L5.41 20z\"/>\n",
              "  </svg>\n",
              "      </button>\n",
              "      \n",
              "  <style>\n",
              "    .colab-df-container {\n",
              "      display:flex;\n",
              "      flex-wrap:wrap;\n",
              "      gap: 12px;\n",
              "    }\n",
              "\n",
              "    .colab-df-convert {\n",
              "      background-color: #E8F0FE;\n",
              "      border: none;\n",
              "      border-radius: 50%;\n",
              "      cursor: pointer;\n",
              "      display: none;\n",
              "      fill: #1967D2;\n",
              "      height: 32px;\n",
              "      padding: 0 0 0 0;\n",
              "      width: 32px;\n",
              "    }\n",
              "\n",
              "    .colab-df-convert:hover {\n",
              "      background-color: #E2EBFA;\n",
              "      box-shadow: 0px 1px 2px rgba(60, 64, 67, 0.3), 0px 1px 3px 1px rgba(60, 64, 67, 0.15);\n",
              "      fill: #174EA6;\n",
              "    }\n",
              "\n",
              "    [theme=dark] .colab-df-convert {\n",
              "      background-color: #3B4455;\n",
              "      fill: #D2E3FC;\n",
              "    }\n",
              "\n",
              "    [theme=dark] .colab-df-convert:hover {\n",
              "      background-color: #434B5C;\n",
              "      box-shadow: 0px 1px 3px 1px rgba(0, 0, 0, 0.15);\n",
              "      filter: drop-shadow(0px 1px 2px rgba(0, 0, 0, 0.3));\n",
              "      fill: #FFFFFF;\n",
              "    }\n",
              "  </style>\n",
              "\n",
              "      <script>\n",
              "        const buttonEl =\n",
              "          document.querySelector('#df-31e91d9e-8a7b-438e-8142-8bc925827524 button.colab-df-convert');\n",
              "        buttonEl.style.display =\n",
              "          google.colab.kernel.accessAllowed ? 'block' : 'none';\n",
              "\n",
              "        async function convertToInteractive(key) {\n",
              "          const element = document.querySelector('#df-31e91d9e-8a7b-438e-8142-8bc925827524');\n",
              "          const dataTable =\n",
              "            await google.colab.kernel.invokeFunction('convertToInteractive',\n",
              "                                                     [key], {});\n",
              "          if (!dataTable) return;\n",
              "\n",
              "          const docLinkHtml = 'Like what you see? Visit the ' +\n",
              "            '<a target=\"_blank\" href=https://colab.research.google.com/notebooks/data_table.ipynb>data table notebook</a>'\n",
              "            + ' to learn more about interactive tables.';\n",
              "          element.innerHTML = '';\n",
              "          dataTable['output_type'] = 'display_data';\n",
              "          await google.colab.output.renderOutput(dataTable, element);\n",
              "          const docLink = document.createElement('div');\n",
              "          docLink.innerHTML = docLinkHtml;\n",
              "          element.appendChild(docLink);\n",
              "        }\n",
              "      </script>\n",
              "    </div>\n",
              "  </div>\n",
              "  "
            ]
          },
          "metadata": {},
          "execution_count": 56
        }
      ]
    },
    {
      "cell_type": "code",
      "source": [
        "df.info()"
      ],
      "metadata": {
        "id": "zMPmBbRf-knS",
        "outputId": "d381cbcd-e69f-4c2f-ce42-accf0c7e30aa",
        "colab": {
          "base_uri": "https://localhost:8080/"
        }
      },
      "execution_count": 57,
      "outputs": [
        {
          "output_type": "stream",
          "name": "stdout",
          "text": [
            "<class 'pandas.core.frame.DataFrame'>\n",
            "RangeIndex: 8 entries, 0 to 7\n",
            "Data columns (total 21 columns):\n",
            " #   Column              Non-Null Count  Dtype         \n",
            "---  ------              --------------  -----         \n",
            " 0   NOME                8 non-null      object        \n",
            " 1   Data_de_nascimento  8 non-null      datetime64[ns]\n",
            " 2   endereco            8 non-null      object        \n",
            " 3   cidade              8 non-null      object        \n",
            " 4   estado              8 non-null      object        \n",
            " 5   nome mae            8 non-null      object        \n",
            " 6   nome pai            8 non-null      object        \n",
            " 7   casado              7 non-null      object        \n",
            " 8   filhos              8 non-null      object        \n",
            " 9   esporte_favorito    7 non-null      object        \n",
            " 10  fruta favorita      8 non-null      object        \n",
            " 11  profissao           8 non-null      object        \n",
            " 12  altura              8 non-null      float64       \n",
            " 13  IDADE               8 non-null      int64         \n",
            " 14  PESO                8 non-null      float64       \n",
            " 15  ano                 8 non-null      int64         \n",
            " 16  mes                 8 non-null      int64         \n",
            " 17  dia                 8 non-null      int64         \n",
            " 18  nome_do_dia         8 non-null      object        \n",
            " 19  MÃE                 8 non-null      int64         \n",
            " 20  MÃE_SOBRENOME       8 non-null      int64         \n",
            "dtypes: datetime64[ns](1), float64(2), int64(6), object(12)\n",
            "memory usage: 1.4+ KB\n"
          ]
        }
      ]
    },
    {
      "cell_type": "markdown",
      "source": [
        "###Deixando tudo maiúsculo"
      ],
      "metadata": {
        "id": "H51ObdpHya2U"
      }
    },
    {
      "cell_type": "code",
      "source": [
        "def capitalcase(a):\n",
        "  for idx, string in enumerate(a):\n",
        "    a[idx] = string.upper()\n",
        "  return a\n",
        "\n",
        "capitalcase(df['NOME'])\n",
        "capitalcase(df['cidade'])\n",
        "capitalcase(df['estado'])\n",
        "capitalcase(df['nome mae'])\n",
        "capitalcase(df['nome pai'])\n",
        "# capitalcase(df['casado'])\n",
        "capitalcase(df['filhos'])\n",
        "# capitalcase(df['esporte_favorito'])\n",
        "capitalcase(df['fruta favorita'])\n",
        "capitalcase(df['profissao'])"
      ],
      "metadata": {
        "id": "WT7reXU-ygQU",
        "outputId": "a28530f0-c009-4644-f22a-128485eea5ca",
        "colab": {
          "base_uri": "https://localhost:8080/"
        }
      },
      "execution_count": 66,
      "outputs": [
        {
          "output_type": "stream",
          "name": "stderr",
          "text": [
            "/usr/local/lib/python3.7/dist-packages/ipykernel_launcher.py:3: SettingWithCopyWarning: \n",
            "A value is trying to be set on a copy of a slice from a DataFrame\n",
            "\n",
            "See the caveats in the documentation: https://pandas.pydata.org/pandas-docs/stable/user_guide/indexing.html#returning-a-view-versus-a-copy\n",
            "  This is separate from the ipykernel package so we can avoid doing imports until\n"
          ]
        },
        {
          "output_type": "execute_result",
          "data": {
            "text/plain": [
              "0                               ESTUDANTE\n",
              "1    ASSISTENTE ADMISTRATIVO E TRANSPORTE\n",
              "2                               ESTUDANTE\n",
              "3                               REPOSITOR\n",
              "4                               ESTUDANTE\n",
              "5                                VENDEDOR\n",
              "6                               ESTUDANTE\n",
              "7                                VENDEDOR\n",
              "Name: profissao, dtype: object"
            ]
          },
          "metadata": {},
          "execution_count": 66
        }
      ]
    }
  ]
}