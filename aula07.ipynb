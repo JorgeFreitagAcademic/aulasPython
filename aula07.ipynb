{
  "nbformat": 4,
  "nbformat_minor": 0,
  "metadata": {
    "colab": {
      "provenance": [],
      "collapsed_sections": [],
      "toc_visible": true,
      "authorship_tag": "ABX9TyP+gIpUEXQcKqgZVCf8C6eb",
      "include_colab_link": true
    },
    "kernelspec": {
      "name": "python3",
      "display_name": "Python 3"
    },
    "language_info": {
      "name": "python"
    }
  },
  "cells": [
    {
      "cell_type": "markdown",
      "metadata": {
        "id": "view-in-github",
        "colab_type": "text"
      },
      "source": [
        "<a href=\"https://colab.research.google.com/github/JorgeFreitagAcademic/aulasPython/blob/main/aula07.ipynb\" target=\"_parent\"><img src=\"https://colab.research.google.com/assets/colab-badge.svg\" alt=\"Open In Colab\"/></a>"
      ]
    },
    {
      "cell_type": "markdown",
      "source": [
        "#Aplicando Funções"
      ],
      "metadata": {
        "id": "tG49n-7VBlwg"
      }
    },
    {
      "cell_type": "markdown",
      "source": [
        "##Função .title"
      ],
      "metadata": {
        "id": "8RZEeVBQCS0u"
      }
    },
    {
      "cell_type": "code",
      "execution_count": 26,
      "metadata": {
        "colab": {
          "base_uri": "https://localhost:8080/",
          "height": 53
        },
        "id": "i_cmT_TDBdtq",
        "outputId": "28ae9558-4ac4-44b0-ecca-6f3ad44eb3a9"
      },
      "outputs": [
        {
          "name": "stdout",
          "output_type": "stream",
          "text": [
            "Digite seu nome completo jorge henrique domingues freitag\n"
          ]
        },
        {
          "output_type": "execute_result",
          "data": {
            "text/plain": [
              "'Jorge Henrique Domingues Freitag'"
            ],
            "application/vnd.google.colaboratory.intrinsic+json": {
              "type": "string"
            }
          },
          "metadata": {},
          "execution_count": 26
        }
      ],
      "source": [
        "x = input('Digite seu nome completo ')\n",
        "x.title()"
      ]
    },
    {
      "cell_type": "markdown",
      "source": [
        "##Funções .upper e .lower"
      ],
      "metadata": {
        "id": "oct-izPcCZcl"
      }
    },
    {
      "cell_type": "markdown",
      "source": [
        "Pelo nome sujerido, deixam o texto em letras maiusculas ou minusculas respectivamente"
      ],
      "metadata": {
        "id": "PBnxtS6nCryy"
      }
    },
    {
      "cell_type": "code",
      "source": [
        "x.upper()"
      ],
      "metadata": {
        "colab": {
          "base_uri": "https://localhost:8080/",
          "height": 35
        },
        "id": "EfNNqFNZCZ5t",
        "outputId": "d6e7e271-0ec4-4728-e902-60250f2d789e"
      },
      "execution_count": 10,
      "outputs": [
        {
          "output_type": "execute_result",
          "data": {
            "text/plain": [
              "'JORGE HENRIQUE DOMINGUES FREITAG'"
            ],
            "application/vnd.google.colaboratory.intrinsic+json": {
              "type": "string"
            }
          },
          "metadata": {},
          "execution_count": 10
        }
      ]
    },
    {
      "cell_type": "code",
      "source": [
        "x.lower()"
      ],
      "metadata": {
        "colab": {
          "base_uri": "https://localhost:8080/",
          "height": 35
        },
        "id": "_lfkrpLZClna",
        "outputId": "c62fe64e-64db-49bc-d26c-b8bc0b3c454a"
      },
      "execution_count": 11,
      "outputs": [
        {
          "output_type": "execute_result",
          "data": {
            "text/plain": [
              "'jorge henrique domingues freitag'"
            ],
            "application/vnd.google.colaboratory.intrinsic+json": {
              "type": "string"
            }
          },
          "metadata": {},
          "execution_count": 11
        }
      ]
    },
    {
      "cell_type": "code",
      "source": [
        "type(x)"
      ],
      "metadata": {
        "colab": {
          "base_uri": "https://localhost:8080/"
        },
        "id": "aookNP8tC6MC",
        "outputId": "da8cb97f-65fc-4598-e029-c2875c757aa4"
      },
      "execution_count": 12,
      "outputs": [
        {
          "output_type": "execute_result",
          "data": {
            "text/plain": [
              "str"
            ]
          },
          "metadata": {},
          "execution_count": 12
        }
      ]
    },
    {
      "cell_type": "markdown",
      "source": [
        "##Função .split e .maxsplit"
      ],
      "metadata": {
        "id": "pnHerC1vDEcM"
      }
    },
    {
      "cell_type": "markdown",
      "source": [
        "Divide os parametros de uma string"
      ],
      "metadata": {
        "id": "Nvm8fRkqDLfa"
      }
    },
    {
      "cell_type": "code",
      "source": [
        "x.split()"
      ],
      "metadata": {
        "colab": {
          "base_uri": "https://localhost:8080/"
        },
        "id": "ocLFMdO6DH9S",
        "outputId": "6ea9b2ee-0706-4cd4-c8e6-4986d998f9fb"
      },
      "execution_count": 13,
      "outputs": [
        {
          "output_type": "execute_result",
          "data": {
            "text/plain": [
              "['jorge', 'henrique', 'domingues', 'freitag']"
            ]
          },
          "metadata": {},
          "execution_count": 13
        }
      ]
    },
    {
      "cell_type": "code",
      "source": [
        "x.split(maxsplit = 3)"
      ],
      "metadata": {
        "colab": {
          "base_uri": "https://localhost:8080/"
        },
        "id": "9iiNlXc6Ddac",
        "outputId": "586d9e1b-73d0-47f9-fca0-40cc555dd8a4"
      },
      "execution_count": 24,
      "outputs": [
        {
          "output_type": "execute_result",
          "data": {
            "text/plain": [
              "['jorge', 'henrique', 'domingues', 'freitag']"
            ]
          },
          "metadata": {},
          "execution_count": 24
        }
      ]
    },
    {
      "cell_type": "markdown",
      "source": [
        "##Função .append"
      ],
      "metadata": {
        "id": "pXAhcDpBGfAx"
      }
    },
    {
      "cell_type": "markdown",
      "source": [
        "Adiciona um parâmetro a uma lista"
      ],
      "metadata": {
        "id": "x0ow9b1bGi3n"
      }
    },
    {
      "cell_type": "code",
      "source": [
        "lista = ['carlos','andrade','nogueira']\n",
        "lista[0] = 'diego'\n",
        "lista.append('Maringá')\n",
        "lista"
      ],
      "metadata": {
        "colab": {
          "base_uri": "https://localhost:8080/"
        },
        "id": "0ubNbi1dEn1U",
        "outputId": "852a8d45-9ddf-4819-c56e-7eabf825ff21"
      },
      "execution_count": 55,
      "outputs": [
        {
          "output_type": "execute_result",
          "data": {
            "text/plain": [
              "['diego', 'andrade', 'nogueira', 'Maringá']"
            ]
          },
          "metadata": {},
          "execution_count": 55
        }
      ]
    },
    {
      "cell_type": "code",
      "source": [
        "a = ''\n",
        "for i in lista:\n",
        "  a = a + ' ' + i\n",
        "str. lstrip(a)"
      ],
      "metadata": {
        "colab": {
          "base_uri": "https://localhost:8080/",
          "height": 35
        },
        "id": "JAXcVUjSJsJD",
        "outputId": "de8ab7b0-5065-4ec2-8594-c2e6e4f6705c"
      },
      "execution_count": 56,
      "outputs": [
        {
          "output_type": "execute_result",
          "data": {
            "text/plain": [
              "'diego andrade nogueira Maringá'"
            ],
            "application/vnd.google.colaboratory.intrinsic+json": {
              "type": "string"
            }
          },
          "metadata": {},
          "execution_count": 56
        }
      ]
    },
    {
      "cell_type": "markdown",
      "source": [
        "##Função .remove"
      ],
      "metadata": {
        "id": "J5J8xcaAOLs6"
      }
    },
    {
      "cell_type": "code",
      "source": [
        "lista.remove(lista[-1])\n",
        "lista "
      ],
      "metadata": {
        "colab": {
          "base_uri": "https://localhost:8080/"
        },
        "id": "NYUmtcUsMRVE",
        "outputId": "f0067815-3450-4db7-997d-84bbc68bf3b9"
      },
      "execution_count": 57,
      "outputs": [
        {
          "output_type": "execute_result",
          "data": {
            "text/plain": [
              "['diego', 'andrade', 'nogueira']"
            ]
          },
          "metadata": {},
          "execution_count": 57
        }
      ]
    }
  ]
}