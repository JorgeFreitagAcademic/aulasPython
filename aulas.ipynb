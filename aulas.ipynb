{
  "nbformat": 4,
  "nbformat_minor": 0,
  "metadata": {
    "colab": {
      "name": "Aula04.ipynb",
      "provenance": [],
      "toc_visible": true,
      "include_colab_link": true
    },
    "kernelspec": {
      "name": "python3",
      "display_name": "Python 3"
    },
    "language_info": {
      "name": "python"
    }
  },
  "cells": [
    {
      "cell_type": "markdown",
      "metadata": {
        "id": "view-in-github",
        "colab_type": "text"
      },
      "source": [
        "<a href=\"https://colab.research.google.com/github/JorgeFreitagAcademic/aulasPython/blob/main/aulas.ipynb\" target=\"_parent\"><img src=\"https://colab.research.google.com/assets/colab-badge.svg\" alt=\"Open In Colab\"/></a>"
      ]
    },
    {
      "cell_type": "markdown",
      "source": [
        "#Aula04"
      ],
      "metadata": {
        "id": "CEy1dfDasVHj"
      }
    },
    {
      "cell_type": "markdown",
      "source": [
        "##Primeiro código em Python"
      ],
      "metadata": {
        "id": "1XPXcc5fBiFe"
      }
    },
    {
      "cell_type": "markdown",
      "source": [
        "###Semelhança com o pseudocódigo"
      ],
      "metadata": {
        "id": "VHSlbwp6CKMI"
      }
    },
    {
      "cell_type": "code",
      "execution_count": null,
      "metadata": {
        "id": "3IEsVTIABVTd"
      },
      "outputs": [],
      "source": [
        "x = 5"
      ]
    },
    {
      "cell_type": "code",
      "source": [
        "if x == 5:\n",
        "  y = 0\n",
        "  while y < 4:\n",
        "    print('O valor de y é: ', y)\n",
        "    print('\\n')                                #Quebra de linha\n",
        "    print('x')                                 #\n",
        "    y = y + 1"
      ],
      "metadata": {
        "id": "9TP5QMK-DPLZ"
      },
      "execution_count": null,
      "outputs": []
    },
    {
      "cell_type": "markdown",
      "source": [
        "[Ctrl + ;] -- Comentar linha"
      ],
      "metadata": {
        "id": "oLKJz9uSF42C"
      }
    },
    {
      "cell_type": "markdown",
      "source": [
        "####Qual tipo de variável?"
      ],
      "metadata": {
        "id": "g9p5lYODGlHl"
      }
    },
    {
      "cell_type": "code",
      "source": [
        "type(x)"
      ],
      "metadata": {
        "id": "e1rzRxYlGo0E"
      },
      "execution_count": null,
      "outputs": []
    },
    {
      "cell_type": "code",
      "source": [
        "type('x')"
      ],
      "metadata": {
        "id": "BYMl1Z9CG4sM"
      },
      "execution_count": null,
      "outputs": []
    },
    {
      "cell_type": "markdown",
      "source": [
        "type([Variavel]) -- Função que devolve o tipo de uma variavel"
      ],
      "metadata": {
        "id": "PcyjjJpPHC_0"
      }
    },
    {
      "cell_type": "markdown",
      "source": [
        "###Voltando à semelhança com o pseudocódigo"
      ],
      "metadata": {
        "id": "0NSVscv_Hm0M"
      }
    },
    {
      "cell_type": "code",
      "source": [
        "for i in[5, 6, 7, 8, 9]:\n",
        "  print(i)"
      ],
      "metadata": {
        "id": "u8ypk_2pH0SM"
      },
      "execution_count": null,
      "outputs": []
    },
    {
      "cell_type": "code",
      "source": [
        "for i in range(10):\n",
        "  print(i)"
      ],
      "metadata": {
        "id": "MEv1BWgBI8xt"
      },
      "execution_count": null,
      "outputs": []
    },
    {
      "cell_type": "code",
      "source": [
        "for i in range(5, 10):\n",
        "  print(i)"
      ],
      "metadata": {
        "id": "qb_qnkctJQEZ"
      },
      "execution_count": null,
      "outputs": []
    },
    {
      "cell_type": "code",
      "source": [
        "for i in range(5, 20, 2):\n",
        "  print(i)"
      ],
      "metadata": {
        "id": "NDIzIrOFJ2zw"
      },
      "execution_count": null,
      "outputs": []
    },
    {
      "cell_type": "markdown",
      "source": [
        "####Juntando os códigos"
      ],
      "metadata": {
        "id": "D7JizW2ZKIH9"
      }
    },
    {
      "cell_type": "code",
      "source": [
        "x = 5\n",
        "if x == 5:\n",
        "  y = 0\n",
        "  while y <= 3:\n",
        "    print(y)\n",
        "    print('\\n')\n",
        "    y = y + 1\n",
        "\n",
        "for i in range(5, 21, 5):\n",
        "  print(i + x)\n",
        "  print('\\n')"
      ],
      "metadata": {
        "id": "EpDVjAmaKLH7"
      },
      "execution_count": null,
      "outputs": []
    },
    {
      "cell_type": "markdown",
      "source": [
        "###Comando INPUT"
      ],
      "metadata": {
        "id": "23E85x9lNcnt"
      }
    },
    {
      "cell_type": "code",
      "source": [
        "input('escreva o seu nome: ')"
      ],
      "metadata": {
        "id": "FZD7wnziNfi-",
        "outputId": "51949cca-ad72-4906-9046-5cc47b645e91",
        "colab": {
          "base_uri": "https://localhost:8080/",
          "height": 53
        }
      },
      "execution_count": null,
      "outputs": [
        {
          "name": "stdout",
          "output_type": "stream",
          "text": [
            "escreva o seu nomejorge\n"
          ]
        },
        {
          "output_type": "execute_result",
          "data": {
            "text/plain": [
              "'jorge'"
            ],
            "application/vnd.google.colaboratory.intrinsic+json": {
              "type": "string"
            }
          },
          "metadata": {},
          "execution_count": 47
        }
      ]
    },
    {
      "cell_type": "markdown",
      "source": [
        "O input pede a entrada de um novo dado fornecido pelo usuario"
      ],
      "metadata": {
        "id": "i6vwapsAN8fE"
      }
    },
    {
      "cell_type": "code",
      "source": [
        "x = input('escreva o seu nome: ')\n",
        "print('o nome digitado foi', x)"
      ],
      "metadata": {
        "id": "iC5lRX2RODJl",
        "outputId": "79164110-08b3-47b8-a0f0-009ae1132683",
        "colab": {
          "base_uri": "https://localhost:8080/"
        }
      },
      "execution_count": null,
      "outputs": [
        {
          "output_type": "stream",
          "name": "stdout",
          "text": [
            "escreva o seu nome: Jorge\n",
            "o nome digitado foi Jorge\n"
          ]
        }
      ]
    }
  ]
}